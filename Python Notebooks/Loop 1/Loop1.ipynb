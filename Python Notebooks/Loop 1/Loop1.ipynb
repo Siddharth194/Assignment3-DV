{
  "nbformat": 4,
  "nbformat_minor": 0,
  "metadata": {
    "colab": {
      "provenance": []
    },
    "kernelspec": {
      "name": "python3",
      "display_name": "Python 3"
    },
    "language_info": {
      "name": "python"
    }
  },
  "cells": [
    {
      "cell_type": "code",
      "execution_count": null,
      "metadata": {
        "id": "EqQeFTKjkp_K"
      },
      "outputs": [],
      "source": [
        "import matplotlib.pyplot as plt\n",
        "import seaborn as sns\n",
        "from ipywidgets import interact"
      ]
    },
    {
      "cell_type": "code",
      "source": [
        "import pandas as pd\n",
        "import numpy as np"
      ],
      "metadata": {
        "id": "JioZlOYRnHa-"
      },
      "execution_count": null,
      "outputs": []
    },
    {
      "cell_type": "code",
      "source": [
        "df = pd.read_csv(\"/content/drive/MyDrive/DV_A3/most_streamed_spotify_songs_2024.csv\")"
      ],
      "metadata": {
        "id": "KVfBeTQAnPb3"
      },
      "execution_count": null,
      "outputs": []
    },
    {
      "cell_type": "code",
      "source": [
        "df['Release Date'] = pd.to_datetime(df['Release Date'], format='%d-%m-%Y')\n",
        "df_filtered = df[df['Release Date'] < '01-01-2023']\n",
        "print(df_filtered.head())"
      ],
      "metadata": {
        "colab": {
          "base_uri": "https://localhost:8080/"
        },
        "id": "EwSLhaC_pxGQ",
        "outputId": "567c21f0-5b99-48cb-fab0-0c1d24123964"
      },
      "execution_count": null,
      "outputs": [
        {
          "output_type": "stream",
          "name": "stdout",
          "text": [
            "                                               Track  \\\n",
            "2                                  For the Last Time   \n",
            "3  ...And to Those I Love, Thanks for Sticking Ar...   \n",
            "4                                             Avalon   \n",
            "5                                        1000 Blunts   \n",
            "6                                        Matte Black   \n",
            "\n",
            "                               Album Name       Artist Release Date  \\\n",
            "2                       For the Last Time  $uicideboy$   2017-05-09   \n",
            "3             STOP STARING AT THE SHADOWS  $uicideboy$   2020-02-14   \n",
            "4                                  Avalon  $uicideboy$   2021-05-21   \n",
            "5  Sing Me a Lullaby, My Sweet Temptation  $uicideboy$   2022-07-29   \n",
            "6  Sing Me a Lullaby, My Sweet Temptation  $uicideboy$   2022-07-29   \n",
            "\n",
            "           ISRC All Time Rank  Track Score  Spotify Streams  \\\n",
            "2  QM8DG1703420         4,585         19.4      305049963.0   \n",
            "3  QZAPK1900020         1,709         35.3      675082623.0   \n",
            "4  QZAPK2000176         3,723         22.2      204669341.0   \n",
            "5  QZAPK2000271         2,237         30.3      189588270.0   \n",
            "6  QZAPK2000269         3,938         21.5      162889846.0   \n",
            "\n",
            "   Spotify Playlist Count  Spotify Playlist Reach  ...  AirPlay Spins  \\\n",
            "2                 65770.0               5103054.0  ...            6.0   \n",
            "3                167727.0              15198984.0  ...            9.0   \n",
            "4                 54797.0               3940409.0  ...           14.0   \n",
            "5                 43837.0               2663499.0  ...            2.0   \n",
            "6                 45505.0               2568098.0  ...         1319.0   \n",
            "\n",
            "   SiriusXM Spins  Deezer Playlist Count  Deezer Playlist Reach  \\\n",
            "2             NaN                    2.0                14217.0   \n",
            "3             NaN                    5.0                22406.0   \n",
            "4             NaN                    NaN                    NaN   \n",
            "5             NaN                    NaN                    NaN   \n",
            "6              22                    1.0                53318.0   \n",
            "\n",
            "   Amazon Playlist Count  Pandora Streams  Pandora Track Stations  \\\n",
            "2                    NaN       20104066.0                 13184.0   \n",
            "3                    NaN       11746442.0                 31117.0   \n",
            "4                    NaN        4218125.0                  3630.0   \n",
            "5                    NaN        6559431.0                  3552.0   \n",
            "6                    NaN        6608498.0                  3600.0   \n",
            "\n",
            "   Soundcloud Streams  Shazam Counts Explicit Track  \n",
            "2          50633006.0       656337.0              1  \n",
            "3                 NaN      3195912.0              1  \n",
            "4          21572723.0       288456.0              1  \n",
            "5          14217001.0       240381.0              1  \n",
            "6                 NaN       351439.0              1  \n",
            "\n",
            "[5 rows x 28 columns]\n"
          ]
        }
      ]
    },
    {
      "cell_type": "code",
      "source": [
        "df_filtered.to_csv('most_streamed_spotify_songs_till2022.csv')"
      ],
      "metadata": {
        "id": "AwyxM97nqP8v"
      },
      "execution_count": null,
      "outputs": []
    },
    {
      "cell_type": "code",
      "source": [
        "!pip install ipympl"
      ],
      "metadata": {
        "colab": {
          "base_uri": "https://localhost:8080/"
        },
        "id": "s2UGuRmvuVJ4",
        "outputId": "830197c8-d341-4ce6-f639-38b1c231ef1f"
      },
      "execution_count": null,
      "outputs": [
        {
          "output_type": "stream",
          "name": "stdout",
          "text": [
            "Requirement already satisfied: ipympl in /usr/local/lib/python3.10/dist-packages (0.9.4)\n",
            "Requirement already satisfied: ipython-genutils in /usr/local/lib/python3.10/dist-packages (from ipympl) (0.2.0)\n",
            "Requirement already satisfied: ipython<9 in /usr/local/lib/python3.10/dist-packages (from ipympl) (7.34.0)\n",
            "Requirement already satisfied: ipywidgets<9,>=7.6.0 in /usr/local/lib/python3.10/dist-packages (from ipympl) (7.7.1)\n",
            "Requirement already satisfied: matplotlib<4,>=3.4.0 in /usr/local/lib/python3.10/dist-packages (from ipympl) (3.8.0)\n",
            "Requirement already satisfied: numpy in /usr/local/lib/python3.10/dist-packages (from ipympl) (1.26.4)\n",
            "Requirement already satisfied: pillow in /usr/local/lib/python3.10/dist-packages (from ipympl) (11.0.0)\n",
            "Requirement already satisfied: traitlets<6 in /usr/local/lib/python3.10/dist-packages (from ipympl) (5.7.1)\n",
            "Requirement already satisfied: setuptools>=18.5 in /usr/local/lib/python3.10/dist-packages (from ipython<9->ipympl) (75.1.0)\n",
            "Requirement already satisfied: jedi>=0.16 in /usr/local/lib/python3.10/dist-packages (from ipython<9->ipympl) (0.19.2)\n",
            "Requirement already satisfied: decorator in /usr/local/lib/python3.10/dist-packages (from ipython<9->ipympl) (4.4.2)\n",
            "Requirement already satisfied: pickleshare in /usr/local/lib/python3.10/dist-packages (from ipython<9->ipympl) (0.7.5)\n",
            "Requirement already satisfied: prompt-toolkit!=3.0.0,!=3.0.1,<3.1.0,>=2.0.0 in /usr/local/lib/python3.10/dist-packages (from ipython<9->ipympl) (3.0.48)\n",
            "Requirement already satisfied: pygments in /usr/local/lib/python3.10/dist-packages (from ipython<9->ipympl) (2.18.0)\n",
            "Requirement already satisfied: backcall in /usr/local/lib/python3.10/dist-packages (from ipython<9->ipympl) (0.2.0)\n",
            "Requirement already satisfied: matplotlib-inline in /usr/local/lib/python3.10/dist-packages (from ipython<9->ipympl) (0.1.7)\n",
            "Requirement already satisfied: pexpect>4.3 in /usr/local/lib/python3.10/dist-packages (from ipython<9->ipympl) (4.9.0)\n",
            "Requirement already satisfied: ipykernel>=4.5.1 in /usr/local/lib/python3.10/dist-packages (from ipywidgets<9,>=7.6.0->ipympl) (5.5.6)\n",
            "Requirement already satisfied: widgetsnbextension~=3.6.0 in /usr/local/lib/python3.10/dist-packages (from ipywidgets<9,>=7.6.0->ipympl) (3.6.10)\n",
            "Requirement already satisfied: jupyterlab-widgets>=1.0.0 in /usr/local/lib/python3.10/dist-packages (from ipywidgets<9,>=7.6.0->ipympl) (3.0.13)\n",
            "Requirement already satisfied: contourpy>=1.0.1 in /usr/local/lib/python3.10/dist-packages (from matplotlib<4,>=3.4.0->ipympl) (1.3.1)\n",
            "Requirement already satisfied: cycler>=0.10 in /usr/local/lib/python3.10/dist-packages (from matplotlib<4,>=3.4.0->ipympl) (0.12.1)\n",
            "Requirement already satisfied: fonttools>=4.22.0 in /usr/local/lib/python3.10/dist-packages (from matplotlib<4,>=3.4.0->ipympl) (4.55.0)\n",
            "Requirement already satisfied: kiwisolver>=1.0.1 in /usr/local/lib/python3.10/dist-packages (from matplotlib<4,>=3.4.0->ipympl) (1.4.7)\n",
            "Requirement already satisfied: packaging>=20.0 in /usr/local/lib/python3.10/dist-packages (from matplotlib<4,>=3.4.0->ipympl) (24.2)\n",
            "Requirement already satisfied: pyparsing>=2.3.1 in /usr/local/lib/python3.10/dist-packages (from matplotlib<4,>=3.4.0->ipympl) (3.2.0)\n",
            "Requirement already satisfied: python-dateutil>=2.7 in /usr/local/lib/python3.10/dist-packages (from matplotlib<4,>=3.4.0->ipympl) (2.8.2)\n",
            "Requirement already satisfied: jupyter-client in /usr/local/lib/python3.10/dist-packages (from ipykernel>=4.5.1->ipywidgets<9,>=7.6.0->ipympl) (6.1.12)\n",
            "Requirement already satisfied: tornado>=4.2 in /usr/local/lib/python3.10/dist-packages (from ipykernel>=4.5.1->ipywidgets<9,>=7.6.0->ipympl) (6.3.3)\n",
            "Requirement already satisfied: parso<0.9.0,>=0.8.4 in /usr/local/lib/python3.10/dist-packages (from jedi>=0.16->ipython<9->ipympl) (0.8.4)\n",
            "Requirement already satisfied: ptyprocess>=0.5 in /usr/local/lib/python3.10/dist-packages (from pexpect>4.3->ipython<9->ipympl) (0.7.0)\n",
            "Requirement already satisfied: wcwidth in /usr/local/lib/python3.10/dist-packages (from prompt-toolkit!=3.0.0,!=3.0.1,<3.1.0,>=2.0.0->ipython<9->ipympl) (0.2.13)\n",
            "Requirement already satisfied: six>=1.5 in /usr/local/lib/python3.10/dist-packages (from python-dateutil>=2.7->matplotlib<4,>=3.4.0->ipympl) (1.16.0)\n",
            "Requirement already satisfied: notebook>=4.4.1 in /usr/local/lib/python3.10/dist-packages (from widgetsnbextension~=3.6.0->ipywidgets<9,>=7.6.0->ipympl) (6.5.5)\n",
            "Requirement already satisfied: jinja2 in /usr/local/lib/python3.10/dist-packages (from notebook>=4.4.1->widgetsnbextension~=3.6.0->ipywidgets<9,>=7.6.0->ipympl) (3.1.4)\n",
            "Requirement already satisfied: pyzmq<25,>=17 in /usr/local/lib/python3.10/dist-packages (from notebook>=4.4.1->widgetsnbextension~=3.6.0->ipywidgets<9,>=7.6.0->ipympl) (24.0.1)\n",
            "Requirement already satisfied: argon2-cffi in /usr/local/lib/python3.10/dist-packages (from notebook>=4.4.1->widgetsnbextension~=3.6.0->ipywidgets<9,>=7.6.0->ipympl) (23.1.0)\n",
            "Requirement already satisfied: jupyter-core>=4.6.1 in /usr/local/lib/python3.10/dist-packages (from notebook>=4.4.1->widgetsnbextension~=3.6.0->ipywidgets<9,>=7.6.0->ipympl) (5.7.2)\n",
            "Requirement already satisfied: nbformat in /usr/local/lib/python3.10/dist-packages (from notebook>=4.4.1->widgetsnbextension~=3.6.0->ipywidgets<9,>=7.6.0->ipympl) (5.10.4)\n",
            "Requirement already satisfied: nbconvert>=5 in /usr/local/lib/python3.10/dist-packages (from notebook>=4.4.1->widgetsnbextension~=3.6.0->ipywidgets<9,>=7.6.0->ipympl) (7.16.4)\n",
            "Requirement already satisfied: nest-asyncio>=1.5 in /usr/local/lib/python3.10/dist-packages (from notebook>=4.4.1->widgetsnbextension~=3.6.0->ipywidgets<9,>=7.6.0->ipympl) (1.6.0)\n",
            "Requirement already satisfied: Send2Trash>=1.8.0 in /usr/local/lib/python3.10/dist-packages (from notebook>=4.4.1->widgetsnbextension~=3.6.0->ipywidgets<9,>=7.6.0->ipympl) (1.8.3)\n",
            "Requirement already satisfied: terminado>=0.8.3 in /usr/local/lib/python3.10/dist-packages (from notebook>=4.4.1->widgetsnbextension~=3.6.0->ipywidgets<9,>=7.6.0->ipympl) (0.18.1)\n",
            "Requirement already satisfied: prometheus-client in /usr/local/lib/python3.10/dist-packages (from notebook>=4.4.1->widgetsnbextension~=3.6.0->ipywidgets<9,>=7.6.0->ipympl) (0.21.0)\n",
            "Requirement already satisfied: nbclassic>=0.4.7 in /usr/local/lib/python3.10/dist-packages (from notebook>=4.4.1->widgetsnbextension~=3.6.0->ipywidgets<9,>=7.6.0->ipympl) (1.1.0)\n",
            "Requirement already satisfied: platformdirs>=2.5 in /usr/local/lib/python3.10/dist-packages (from jupyter-core>=4.6.1->notebook>=4.4.1->widgetsnbextension~=3.6.0->ipywidgets<9,>=7.6.0->ipympl) (4.3.6)\n",
            "Requirement already satisfied: notebook-shim>=0.2.3 in /usr/local/lib/python3.10/dist-packages (from nbclassic>=0.4.7->notebook>=4.4.1->widgetsnbextension~=3.6.0->ipywidgets<9,>=7.6.0->ipympl) (0.2.4)\n",
            "Requirement already satisfied: beautifulsoup4 in /usr/local/lib/python3.10/dist-packages (from nbconvert>=5->notebook>=4.4.1->widgetsnbextension~=3.6.0->ipywidgets<9,>=7.6.0->ipympl) (4.12.3)\n",
            "Requirement already satisfied: bleach!=5.0.0 in /usr/local/lib/python3.10/dist-packages (from nbconvert>=5->notebook>=4.4.1->widgetsnbextension~=3.6.0->ipywidgets<9,>=7.6.0->ipympl) (6.2.0)\n",
            "Requirement already satisfied: defusedxml in /usr/local/lib/python3.10/dist-packages (from nbconvert>=5->notebook>=4.4.1->widgetsnbextension~=3.6.0->ipywidgets<9,>=7.6.0->ipympl) (0.7.1)\n",
            "Requirement already satisfied: jupyterlab-pygments in /usr/local/lib/python3.10/dist-packages (from nbconvert>=5->notebook>=4.4.1->widgetsnbextension~=3.6.0->ipywidgets<9,>=7.6.0->ipympl) (0.3.0)\n",
            "Requirement already satisfied: markupsafe>=2.0 in /usr/local/lib/python3.10/dist-packages (from nbconvert>=5->notebook>=4.4.1->widgetsnbextension~=3.6.0->ipywidgets<9,>=7.6.0->ipympl) (3.0.2)\n",
            "Requirement already satisfied: mistune<4,>=2.0.3 in /usr/local/lib/python3.10/dist-packages (from nbconvert>=5->notebook>=4.4.1->widgetsnbextension~=3.6.0->ipywidgets<9,>=7.6.0->ipympl) (3.0.2)\n",
            "Requirement already satisfied: nbclient>=0.5.0 in /usr/local/lib/python3.10/dist-packages (from nbconvert>=5->notebook>=4.4.1->widgetsnbextension~=3.6.0->ipywidgets<9,>=7.6.0->ipympl) (0.10.0)\n",
            "Requirement already satisfied: pandocfilters>=1.4.1 in /usr/local/lib/python3.10/dist-packages (from nbconvert>=5->notebook>=4.4.1->widgetsnbextension~=3.6.0->ipywidgets<9,>=7.6.0->ipympl) (1.5.1)\n",
            "Requirement already satisfied: tinycss2 in /usr/local/lib/python3.10/dist-packages (from nbconvert>=5->notebook>=4.4.1->widgetsnbextension~=3.6.0->ipywidgets<9,>=7.6.0->ipympl) (1.4.0)\n",
            "Requirement already satisfied: fastjsonschema>=2.15 in /usr/local/lib/python3.10/dist-packages (from nbformat->notebook>=4.4.1->widgetsnbextension~=3.6.0->ipywidgets<9,>=7.6.0->ipympl) (2.20.0)\n",
            "Requirement already satisfied: jsonschema>=2.6 in /usr/local/lib/python3.10/dist-packages (from nbformat->notebook>=4.4.1->widgetsnbextension~=3.6.0->ipywidgets<9,>=7.6.0->ipympl) (4.23.0)\n",
            "Requirement already satisfied: argon2-cffi-bindings in /usr/local/lib/python3.10/dist-packages (from argon2-cffi->notebook>=4.4.1->widgetsnbextension~=3.6.0->ipywidgets<9,>=7.6.0->ipympl) (21.2.0)\n",
            "Requirement already satisfied: webencodings in /usr/local/lib/python3.10/dist-packages (from bleach!=5.0.0->nbconvert>=5->notebook>=4.4.1->widgetsnbextension~=3.6.0->ipywidgets<9,>=7.6.0->ipympl) (0.5.1)\n",
            "Requirement already satisfied: attrs>=22.2.0 in /usr/local/lib/python3.10/dist-packages (from jsonschema>=2.6->nbformat->notebook>=4.4.1->widgetsnbextension~=3.6.0->ipywidgets<9,>=7.6.0->ipympl) (24.2.0)\n",
            "Requirement already satisfied: jsonschema-specifications>=2023.03.6 in /usr/local/lib/python3.10/dist-packages (from jsonschema>=2.6->nbformat->notebook>=4.4.1->widgetsnbextension~=3.6.0->ipywidgets<9,>=7.6.0->ipympl) (2024.10.1)\n",
            "Requirement already satisfied: referencing>=0.28.4 in /usr/local/lib/python3.10/dist-packages (from jsonschema>=2.6->nbformat->notebook>=4.4.1->widgetsnbextension~=3.6.0->ipywidgets<9,>=7.6.0->ipympl) (0.35.1)\n",
            "Requirement already satisfied: rpds-py>=0.7.1 in /usr/local/lib/python3.10/dist-packages (from jsonschema>=2.6->nbformat->notebook>=4.4.1->widgetsnbextension~=3.6.0->ipywidgets<9,>=7.6.0->ipympl) (0.21.0)\n",
            "Requirement already satisfied: jupyter-server<3,>=1.8 in /usr/local/lib/python3.10/dist-packages (from notebook-shim>=0.2.3->nbclassic>=0.4.7->notebook>=4.4.1->widgetsnbextension~=3.6.0->ipywidgets<9,>=7.6.0->ipympl) (1.24.0)\n",
            "Requirement already satisfied: cffi>=1.0.1 in /usr/local/lib/python3.10/dist-packages (from argon2-cffi-bindings->argon2-cffi->notebook>=4.4.1->widgetsnbextension~=3.6.0->ipywidgets<9,>=7.6.0->ipympl) (1.17.1)\n",
            "Requirement already satisfied: soupsieve>1.2 in /usr/local/lib/python3.10/dist-packages (from beautifulsoup4->nbconvert>=5->notebook>=4.4.1->widgetsnbextension~=3.6.0->ipywidgets<9,>=7.6.0->ipympl) (2.6)\n",
            "Requirement already satisfied: pycparser in /usr/local/lib/python3.10/dist-packages (from cffi>=1.0.1->argon2-cffi-bindings->argon2-cffi->notebook>=4.4.1->widgetsnbextension~=3.6.0->ipywidgets<9,>=7.6.0->ipympl) (2.22)\n",
            "Requirement already satisfied: anyio<4,>=3.1.0 in /usr/local/lib/python3.10/dist-packages (from jupyter-server<3,>=1.8->notebook-shim>=0.2.3->nbclassic>=0.4.7->notebook>=4.4.1->widgetsnbextension~=3.6.0->ipywidgets<9,>=7.6.0->ipympl) (3.7.1)\n",
            "Requirement already satisfied: websocket-client in /usr/local/lib/python3.10/dist-packages (from jupyter-server<3,>=1.8->notebook-shim>=0.2.3->nbclassic>=0.4.7->notebook>=4.4.1->widgetsnbextension~=3.6.0->ipywidgets<9,>=7.6.0->ipympl) (1.8.0)\n",
            "Requirement already satisfied: idna>=2.8 in /usr/local/lib/python3.10/dist-packages (from anyio<4,>=3.1.0->jupyter-server<3,>=1.8->notebook-shim>=0.2.3->nbclassic>=0.4.7->notebook>=4.4.1->widgetsnbextension~=3.6.0->ipywidgets<9,>=7.6.0->ipympl) (3.10)\n",
            "Requirement already satisfied: sniffio>=1.1 in /usr/local/lib/python3.10/dist-packages (from anyio<4,>=3.1.0->jupyter-server<3,>=1.8->notebook-shim>=0.2.3->nbclassic>=0.4.7->notebook>=4.4.1->widgetsnbextension~=3.6.0->ipywidgets<9,>=7.6.0->ipympl) (1.3.1)\n",
            "Requirement already satisfied: exceptiongroup in /usr/local/lib/python3.10/dist-packages (from anyio<4,>=3.1.0->jupyter-server<3,>=1.8->notebook-shim>=0.2.3->nbclassic>=0.4.7->notebook>=4.4.1->widgetsnbextension~=3.6.0->ipywidgets<9,>=7.6.0->ipympl) (1.2.2)\n"
          ]
        }
      ]
    },
    {
      "cell_type": "code",
      "source": [
        "!pip install plotly"
      ],
      "metadata": {
        "colab": {
          "base_uri": "https://localhost:8080/"
        },
        "id": "LRWMH0i4vBfA",
        "outputId": "53d9bfb4-287a-43bf-d9eb-dc40d475e7c6"
      },
      "execution_count": null,
      "outputs": [
        {
          "output_type": "stream",
          "name": "stdout",
          "text": [
            "Requirement already satisfied: plotly in /usr/local/lib/python3.10/dist-packages (5.24.1)\n",
            "Requirement already satisfied: tenacity>=6.2.0 in /usr/local/lib/python3.10/dist-packages (from plotly) (9.0.0)\n",
            "Requirement already satisfied: packaging in /usr/local/lib/python3.10/dist-packages (from plotly) (24.2)\n"
          ]
        }
      ]
    },
    {
      "cell_type": "code",
      "source": [
        "import plotly.express as px\n",
        "\n",
        "def format_streams(value):\n",
        "    if value >= 1e12:\n",
        "        return f\"{value / 1e12:.1f}T\"\n",
        "    elif value >= 1e9:\n",
        "        return f\"{value / 1e9:.1f}B\"\n",
        "\n",
        "platform_columns = [\n",
        "    \"Spotify Streams\",\n",
        "    \"YouTube Views\",\n",
        "    \"TikTok Views\",\n",
        "    \"Soundcloud Streams\",\n",
        "    \"Pandora Streams\",\n",
        "    \"Shazam Counts\",\n",
        "]\n",
        "\n",
        "df = df_filtered\n",
        "\n",
        "df[platform_columns] = df[platform_columns].apply(pd.to_numeric, errors=\"coerce\").fillna(0)\n",
        "\n",
        "platform_totals = df[platform_columns].sum().reset_index()\n",
        "# print(platform_totals)\n",
        "\n",
        "platform_totals.columns = [\"Platform\", \"Total Streams\"]\n",
        "\n",
        "\n",
        "platform_totals = platform_totals.sort_values(by=\"Total Streams\", ascending=True)\n",
        "\n",
        "platform_totals[\"Formatted Streams\"] = platform_totals[\"Total Streams\"].apply(format_streams)\n",
        "\n",
        "print(platform_totals)\n",
        "\n",
        "fig = px.bar(\n",
        "    platform_totals,\n",
        "    x=\"Total Streams\",\n",
        "    y=\"Platform\",\n",
        "    orientation=\"h\",\n",
        "    title=\"Total Streams by Platform (Linear Scale)\",\n",
        "    labels={\"Total Streams\": \"Total Streams\", \"Platform\": \"Platforms\"},\n",
        "    text=\"Formatted Streams\",\n",
        ")\n",
        "\n",
        "fig.update_layout(\n",
        "    xaxis=dict(title=\"Total Streams\", type=\"linear\"),\n",
        "    yaxis_title=\"Platforms\",\n",
        "    showlegend=False,\n",
        "    height=400,\n",
        "    template=\"plotly_white\",\n",
        ")\n",
        "\n",
        "fig.update_traces(texttemplate=\"%{text}\", textposition=\"outside\")\n",
        "fig.show()\n"
      ],
      "metadata": {
        "colab": {
          "base_uri": "https://localhost:8080/",
          "height": 709
        },
        "id": "8cQdyTtGup7P",
        "outputId": "b6ea05ae-c6a9-407b-86cb-382e1bd611f0"
      },
      "execution_count": null,
      "outputs": [
        {
          "output_type": "stream",
          "name": "stdout",
          "text": [
            "             Platform  Total Streams Formatted Streams\n",
            "5       Shazam Counts   8.046175e+09              8.0B\n",
            "3  Soundcloud Streams   1.631401e+10             16.3B\n",
            "4     Pandora Streams   2.681359e+11            268.1B\n",
            "1       YouTube Views   1.274672e+12              1.3T\n",
            "0     Spotify Streams   1.532293e+12              1.5T\n",
            "2        TikTok Views   3.232355e+12              3.2T\n"
          ]
        },
        {
          "output_type": "stream",
          "name": "stderr",
          "text": [
            "<ipython-input-92-03add249f970>:20: SettingWithCopyWarning:\n",
            "\n",
            "\n",
            "A value is trying to be set on a copy of a slice from a DataFrame.\n",
            "Try using .loc[row_indexer,col_indexer] = value instead\n",
            "\n",
            "See the caveats in the documentation: https://pandas.pydata.org/pandas-docs/stable/user_guide/indexing.html#returning-a-view-versus-a-copy\n",
            "\n"
          ]
        },
        {
          "output_type": "display_data",
          "data": {
            "text/html": [
              "<html>\n",
              "<head><meta charset=\"utf-8\" /></head>\n",
              "<body>\n",
              "    <div>            <script src=\"https://cdnjs.cloudflare.com/ajax/libs/mathjax/2.7.5/MathJax.js?config=TeX-AMS-MML_SVG\"></script><script type=\"text/javascript\">if (window.MathJax && window.MathJax.Hub && window.MathJax.Hub.Config) {window.MathJax.Hub.Config({SVG: {font: \"STIX-Web\"}});}</script>                <script type=\"text/javascript\">window.PlotlyConfig = {MathJaxConfig: 'local'};</script>\n",
              "        <script charset=\"utf-8\" src=\"https://cdn.plot.ly/plotly-2.35.2.min.js\"></script>                <div id=\"af71f47a-f7a6-4cd5-b0b1-e69adc6f12c6\" class=\"plotly-graph-div\" style=\"height:400px; width:100%;\"></div>            <script type=\"text/javascript\">                                    window.PLOTLYENV=window.PLOTLYENV || {};                                    if (document.getElementById(\"af71f47a-f7a6-4cd5-b0b1-e69adc6f12c6\")) {                    Plotly.newPlot(                        \"af71f47a-f7a6-4cd5-b0b1-e69adc6f12c6\",                        [{\"alignmentgroup\":\"True\",\"hovertemplate\":\"Total Streams=%{x}\\u003cbr\\u003ePlatforms=%{y}\\u003cbr\\u003eFormatted Streams=%{text}\\u003cextra\\u003e\\u003c\\u002fextra\\u003e\",\"legendgroup\":\"\",\"marker\":{\"color\":\"#636efa\",\"pattern\":{\"shape\":\"\"}},\"name\":\"\",\"offsetgroup\":\"\",\"orientation\":\"h\",\"showlegend\":false,\"text\":[\"8.0B\",\"16.3B\",\"268.1B\",\"1.3T\",\"1.5T\",\"3.2T\"],\"textposition\":\"outside\",\"x\":[8046175481.0,16314009719.0,268135880270.0,1274671857636.0,1532293396873.0,3232354730008.0],\"xaxis\":\"x\",\"y\":[\"Shazam Counts\",\"Soundcloud Streams\",\"Pandora Streams\",\"YouTube Views\",\"Spotify Streams\",\"TikTok Views\"],\"yaxis\":\"y\",\"type\":\"bar\",\"texttemplate\":\"%{text}\"}],                        {\"template\":{\"data\":{\"barpolar\":[{\"marker\":{\"line\":{\"color\":\"white\",\"width\":0.5},\"pattern\":{\"fillmode\":\"overlay\",\"size\":10,\"solidity\":0.2}},\"type\":\"barpolar\"}],\"bar\":[{\"error_x\":{\"color\":\"#2a3f5f\"},\"error_y\":{\"color\":\"#2a3f5f\"},\"marker\":{\"line\":{\"color\":\"white\",\"width\":0.5},\"pattern\":{\"fillmode\":\"overlay\",\"size\":10,\"solidity\":0.2}},\"type\":\"bar\"}],\"carpet\":[{\"aaxis\":{\"endlinecolor\":\"#2a3f5f\",\"gridcolor\":\"#C8D4E3\",\"linecolor\":\"#C8D4E3\",\"minorgridcolor\":\"#C8D4E3\",\"startlinecolor\":\"#2a3f5f\"},\"baxis\":{\"endlinecolor\":\"#2a3f5f\",\"gridcolor\":\"#C8D4E3\",\"linecolor\":\"#C8D4E3\",\"minorgridcolor\":\"#C8D4E3\",\"startlinecolor\":\"#2a3f5f\"},\"type\":\"carpet\"}],\"choropleth\":[{\"colorbar\":{\"outlinewidth\":0,\"ticks\":\"\"},\"type\":\"choropleth\"}],\"contourcarpet\":[{\"colorbar\":{\"outlinewidth\":0,\"ticks\":\"\"},\"type\":\"contourcarpet\"}],\"contour\":[{\"colorbar\":{\"outlinewidth\":0,\"ticks\":\"\"},\"colorscale\":[[0.0,\"#0d0887\"],[0.1111111111111111,\"#46039f\"],[0.2222222222222222,\"#7201a8\"],[0.3333333333333333,\"#9c179e\"],[0.4444444444444444,\"#bd3786\"],[0.5555555555555556,\"#d8576b\"],[0.6666666666666666,\"#ed7953\"],[0.7777777777777778,\"#fb9f3a\"],[0.8888888888888888,\"#fdca26\"],[1.0,\"#f0f921\"]],\"type\":\"contour\"}],\"heatmapgl\":[{\"colorbar\":{\"outlinewidth\":0,\"ticks\":\"\"},\"colorscale\":[[0.0,\"#0d0887\"],[0.1111111111111111,\"#46039f\"],[0.2222222222222222,\"#7201a8\"],[0.3333333333333333,\"#9c179e\"],[0.4444444444444444,\"#bd3786\"],[0.5555555555555556,\"#d8576b\"],[0.6666666666666666,\"#ed7953\"],[0.7777777777777778,\"#fb9f3a\"],[0.8888888888888888,\"#fdca26\"],[1.0,\"#f0f921\"]],\"type\":\"heatmapgl\"}],\"heatmap\":[{\"colorbar\":{\"outlinewidth\":0,\"ticks\":\"\"},\"colorscale\":[[0.0,\"#0d0887\"],[0.1111111111111111,\"#46039f\"],[0.2222222222222222,\"#7201a8\"],[0.3333333333333333,\"#9c179e\"],[0.4444444444444444,\"#bd3786\"],[0.5555555555555556,\"#d8576b\"],[0.6666666666666666,\"#ed7953\"],[0.7777777777777778,\"#fb9f3a\"],[0.8888888888888888,\"#fdca26\"],[1.0,\"#f0f921\"]],\"type\":\"heatmap\"}],\"histogram2dcontour\":[{\"colorbar\":{\"outlinewidth\":0,\"ticks\":\"\"},\"colorscale\":[[0.0,\"#0d0887\"],[0.1111111111111111,\"#46039f\"],[0.2222222222222222,\"#7201a8\"],[0.3333333333333333,\"#9c179e\"],[0.4444444444444444,\"#bd3786\"],[0.5555555555555556,\"#d8576b\"],[0.6666666666666666,\"#ed7953\"],[0.7777777777777778,\"#fb9f3a\"],[0.8888888888888888,\"#fdca26\"],[1.0,\"#f0f921\"]],\"type\":\"histogram2dcontour\"}],\"histogram2d\":[{\"colorbar\":{\"outlinewidth\":0,\"ticks\":\"\"},\"colorscale\":[[0.0,\"#0d0887\"],[0.1111111111111111,\"#46039f\"],[0.2222222222222222,\"#7201a8\"],[0.3333333333333333,\"#9c179e\"],[0.4444444444444444,\"#bd3786\"],[0.5555555555555556,\"#d8576b\"],[0.6666666666666666,\"#ed7953\"],[0.7777777777777778,\"#fb9f3a\"],[0.8888888888888888,\"#fdca26\"],[1.0,\"#f0f921\"]],\"type\":\"histogram2d\"}],\"histogram\":[{\"marker\":{\"pattern\":{\"fillmode\":\"overlay\",\"size\":10,\"solidity\":0.2}},\"type\":\"histogram\"}],\"mesh3d\":[{\"colorbar\":{\"outlinewidth\":0,\"ticks\":\"\"},\"type\":\"mesh3d\"}],\"parcoords\":[{\"line\":{\"colorbar\":{\"outlinewidth\":0,\"ticks\":\"\"}},\"type\":\"parcoords\"}],\"pie\":[{\"automargin\":true,\"type\":\"pie\"}],\"scatter3d\":[{\"line\":{\"colorbar\":{\"outlinewidth\":0,\"ticks\":\"\"}},\"marker\":{\"colorbar\":{\"outlinewidth\":0,\"ticks\":\"\"}},\"type\":\"scatter3d\"}],\"scattercarpet\":[{\"marker\":{\"colorbar\":{\"outlinewidth\":0,\"ticks\":\"\"}},\"type\":\"scattercarpet\"}],\"scattergeo\":[{\"marker\":{\"colorbar\":{\"outlinewidth\":0,\"ticks\":\"\"}},\"type\":\"scattergeo\"}],\"scattergl\":[{\"marker\":{\"colorbar\":{\"outlinewidth\":0,\"ticks\":\"\"}},\"type\":\"scattergl\"}],\"scattermapbox\":[{\"marker\":{\"colorbar\":{\"outlinewidth\":0,\"ticks\":\"\"}},\"type\":\"scattermapbox\"}],\"scatterpolargl\":[{\"marker\":{\"colorbar\":{\"outlinewidth\":0,\"ticks\":\"\"}},\"type\":\"scatterpolargl\"}],\"scatterpolar\":[{\"marker\":{\"colorbar\":{\"outlinewidth\":0,\"ticks\":\"\"}},\"type\":\"scatterpolar\"}],\"scatter\":[{\"fillpattern\":{\"fillmode\":\"overlay\",\"size\":10,\"solidity\":0.2},\"type\":\"scatter\"}],\"scatterternary\":[{\"marker\":{\"colorbar\":{\"outlinewidth\":0,\"ticks\":\"\"}},\"type\":\"scatterternary\"}],\"surface\":[{\"colorbar\":{\"outlinewidth\":0,\"ticks\":\"\"},\"colorscale\":[[0.0,\"#0d0887\"],[0.1111111111111111,\"#46039f\"],[0.2222222222222222,\"#7201a8\"],[0.3333333333333333,\"#9c179e\"],[0.4444444444444444,\"#bd3786\"],[0.5555555555555556,\"#d8576b\"],[0.6666666666666666,\"#ed7953\"],[0.7777777777777778,\"#fb9f3a\"],[0.8888888888888888,\"#fdca26\"],[1.0,\"#f0f921\"]],\"type\":\"surface\"}],\"table\":[{\"cells\":{\"fill\":{\"color\":\"#EBF0F8\"},\"line\":{\"color\":\"white\"}},\"header\":{\"fill\":{\"color\":\"#C8D4E3\"},\"line\":{\"color\":\"white\"}},\"type\":\"table\"}]},\"layout\":{\"annotationdefaults\":{\"arrowcolor\":\"#2a3f5f\",\"arrowhead\":0,\"arrowwidth\":1},\"autotypenumbers\":\"strict\",\"coloraxis\":{\"colorbar\":{\"outlinewidth\":0,\"ticks\":\"\"}},\"colorscale\":{\"diverging\":[[0,\"#8e0152\"],[0.1,\"#c51b7d\"],[0.2,\"#de77ae\"],[0.3,\"#f1b6da\"],[0.4,\"#fde0ef\"],[0.5,\"#f7f7f7\"],[0.6,\"#e6f5d0\"],[0.7,\"#b8e186\"],[0.8,\"#7fbc41\"],[0.9,\"#4d9221\"],[1,\"#276419\"]],\"sequential\":[[0.0,\"#0d0887\"],[0.1111111111111111,\"#46039f\"],[0.2222222222222222,\"#7201a8\"],[0.3333333333333333,\"#9c179e\"],[0.4444444444444444,\"#bd3786\"],[0.5555555555555556,\"#d8576b\"],[0.6666666666666666,\"#ed7953\"],[0.7777777777777778,\"#fb9f3a\"],[0.8888888888888888,\"#fdca26\"],[1.0,\"#f0f921\"]],\"sequentialminus\":[[0.0,\"#0d0887\"],[0.1111111111111111,\"#46039f\"],[0.2222222222222222,\"#7201a8\"],[0.3333333333333333,\"#9c179e\"],[0.4444444444444444,\"#bd3786\"],[0.5555555555555556,\"#d8576b\"],[0.6666666666666666,\"#ed7953\"],[0.7777777777777778,\"#fb9f3a\"],[0.8888888888888888,\"#fdca26\"],[1.0,\"#f0f921\"]]},\"colorway\":[\"#636efa\",\"#EF553B\",\"#00cc96\",\"#ab63fa\",\"#FFA15A\",\"#19d3f3\",\"#FF6692\",\"#B6E880\",\"#FF97FF\",\"#FECB52\"],\"font\":{\"color\":\"#2a3f5f\"},\"geo\":{\"bgcolor\":\"white\",\"lakecolor\":\"white\",\"landcolor\":\"white\",\"showlakes\":true,\"showland\":true,\"subunitcolor\":\"#C8D4E3\"},\"hoverlabel\":{\"align\":\"left\"},\"hovermode\":\"closest\",\"mapbox\":{\"style\":\"light\"},\"paper_bgcolor\":\"white\",\"plot_bgcolor\":\"white\",\"polar\":{\"angularaxis\":{\"gridcolor\":\"#EBF0F8\",\"linecolor\":\"#EBF0F8\",\"ticks\":\"\"},\"bgcolor\":\"white\",\"radialaxis\":{\"gridcolor\":\"#EBF0F8\",\"linecolor\":\"#EBF0F8\",\"ticks\":\"\"}},\"scene\":{\"xaxis\":{\"backgroundcolor\":\"white\",\"gridcolor\":\"#DFE8F3\",\"gridwidth\":2,\"linecolor\":\"#EBF0F8\",\"showbackground\":true,\"ticks\":\"\",\"zerolinecolor\":\"#EBF0F8\"},\"yaxis\":{\"backgroundcolor\":\"white\",\"gridcolor\":\"#DFE8F3\",\"gridwidth\":2,\"linecolor\":\"#EBF0F8\",\"showbackground\":true,\"ticks\":\"\",\"zerolinecolor\":\"#EBF0F8\"},\"zaxis\":{\"backgroundcolor\":\"white\",\"gridcolor\":\"#DFE8F3\",\"gridwidth\":2,\"linecolor\":\"#EBF0F8\",\"showbackground\":true,\"ticks\":\"\",\"zerolinecolor\":\"#EBF0F8\"}},\"shapedefaults\":{\"line\":{\"color\":\"#2a3f5f\"}},\"ternary\":{\"aaxis\":{\"gridcolor\":\"#DFE8F3\",\"linecolor\":\"#A2B1C6\",\"ticks\":\"\"},\"baxis\":{\"gridcolor\":\"#DFE8F3\",\"linecolor\":\"#A2B1C6\",\"ticks\":\"\"},\"bgcolor\":\"white\",\"caxis\":{\"gridcolor\":\"#DFE8F3\",\"linecolor\":\"#A2B1C6\",\"ticks\":\"\"}},\"title\":{\"x\":0.05},\"xaxis\":{\"automargin\":true,\"gridcolor\":\"#EBF0F8\",\"linecolor\":\"#EBF0F8\",\"ticks\":\"\",\"title\":{\"standoff\":15},\"zerolinecolor\":\"#EBF0F8\",\"zerolinewidth\":2},\"yaxis\":{\"automargin\":true,\"gridcolor\":\"#EBF0F8\",\"linecolor\":\"#EBF0F8\",\"ticks\":\"\",\"title\":{\"standoff\":15},\"zerolinecolor\":\"#EBF0F8\",\"zerolinewidth\":2}}},\"xaxis\":{\"anchor\":\"y\",\"domain\":[0.0,1.0],\"title\":{\"text\":\"Total Streams\"},\"type\":\"linear\"},\"yaxis\":{\"anchor\":\"x\",\"domain\":[0.0,1.0],\"title\":{\"text\":\"Platforms\"}},\"legend\":{\"tracegroupgap\":0},\"title\":{\"text\":\"Total Streams by Platform (Linear Scale)\"},\"barmode\":\"relative\",\"showlegend\":false,\"height\":400},                        {\"responsive\": true}                    ).then(function(){\n",
              "                            \n",
              "var gd = document.getElementById('af71f47a-f7a6-4cd5-b0b1-e69adc6f12c6');\n",
              "var x = new MutationObserver(function (mutations, observer) {{\n",
              "        var display = window.getComputedStyle(gd).display;\n",
              "        if (!display || display === 'none') {{\n",
              "            console.log([gd, 'removed!']);\n",
              "            Plotly.purge(gd);\n",
              "            observer.disconnect();\n",
              "        }}\n",
              "}});\n",
              "\n",
              "// Listen for the removal of the full notebook cells\n",
              "var notebookContainer = gd.closest('#notebook-container');\n",
              "if (notebookContainer) {{\n",
              "    x.observe(notebookContainer, {childList: true});\n",
              "}}\n",
              "\n",
              "// Listen for the clearing of the current output cell\n",
              "var outputEl = gd.closest('.output');\n",
              "if (outputEl) {{\n",
              "    x.observe(outputEl, {childList: true});\n",
              "}}\n",
              "\n",
              "                        })                };                            </script>        </div>\n",
              "</body>\n",
              "</html>"
            ]
          },
          "metadata": {}
        }
      ]
    },
    {
      "cell_type": "code",
      "source": [
        "df[\"Combined Streams\"] = df[[\"Spotify Streams\",\"YouTube Views\", \"TikTok Views\", \"Soundcloud Streams\", \"Pandora Streams\", \"Shazam Counts\"]].sum(axis=1)\n",
        "print(df.head())\n"
      ],
      "metadata": {
        "colab": {
          "base_uri": "https://localhost:8080/"
        },
        "id": "Qqro3zn06cKW",
        "outputId": "fb9d05f6-c59a-4912-9f9f-0abb23e1224d"
      },
      "execution_count": null,
      "outputs": [
        {
          "output_type": "stream",
          "name": "stdout",
          "text": [
            "                                               Track  \\\n",
            "2                                  For the Last Time   \n",
            "3  ...And to Those I Love, Thanks for Sticking Ar...   \n",
            "4                                             Avalon   \n",
            "5                                        1000 Blunts   \n",
            "6                                        Matte Black   \n",
            "\n",
            "                               Album Name       Artist Release Date  \\\n",
            "2                       For the Last Time  $uicideboy$   2017-05-09   \n",
            "3             STOP STARING AT THE SHADOWS  $uicideboy$   2020-02-14   \n",
            "4                                  Avalon  $uicideboy$   2021-05-21   \n",
            "5  Sing Me a Lullaby, My Sweet Temptation  $uicideboy$   2022-07-29   \n",
            "6  Sing Me a Lullaby, My Sweet Temptation  $uicideboy$   2022-07-29   \n",
            "\n",
            "           ISRC All Time Rank  Track Score  Spotify Streams  \\\n",
            "2  QM8DG1703420         4,585         19.4      305049963.0   \n",
            "3  QZAPK1900020         1,709         35.3      675082623.0   \n",
            "4  QZAPK2000176         3,723         22.2      204669341.0   \n",
            "5  QZAPK2000271         2,237         30.3      189588270.0   \n",
            "6  QZAPK2000269         3,938         21.5      162889846.0   \n",
            "\n",
            "   Spotify Playlist Count  Spotify Playlist Reach  ...  SiriusXM Spins  \\\n",
            "2                 65770.0               5103054.0  ...             NaN   \n",
            "3                167727.0              15198984.0  ...             NaN   \n",
            "4                 54797.0               3940409.0  ...             NaN   \n",
            "5                 43837.0               2663499.0  ...             NaN   \n",
            "6                 45505.0               2568098.0  ...              22   \n",
            "\n",
            "   Deezer Playlist Count  Deezer Playlist Reach  Amazon Playlist Count  \\\n",
            "2                    2.0                14217.0                    NaN   \n",
            "3                    5.0                22406.0                    NaN   \n",
            "4                    NaN                    NaN                    NaN   \n",
            "5                    NaN                    NaN                    NaN   \n",
            "6                    1.0                53318.0                    NaN   \n",
            "\n",
            "   Pandora Streams  Pandora Track Stations  Soundcloud Streams  Shazam Counts  \\\n",
            "2       20104066.0                 13184.0          50633006.0       656337.0   \n",
            "3       11746442.0                 31117.0                 0.0      3195912.0   \n",
            "4        4218125.0                  3630.0          21572723.0       288456.0   \n",
            "5        6559431.0                  3552.0          14217001.0       240381.0   \n",
            "6        6608498.0                  3600.0                 0.0       351439.0   \n",
            "\n",
            "   Explicit Track Combined Streams  \n",
            "2               1     6.696255e+08  \n",
            "3               1     1.277782e+09  \n",
            "4               1     3.290351e+08  \n",
            "5               1     2.987181e+08  \n",
            "6               1     3.014084e+08  \n",
            "\n",
            "[5 rows x 29 columns]\n"
          ]
        }
      ]
    },
    {
      "cell_type": "code",
      "source": [
        "df_sorted = df.sort_values(by=\"Combined Streams\",ascending=False)\n",
        "top_songs = df_sorted.head(10)\n",
        "print(top_songs)\n",
        "# df.to_csv(\"test.csv\")\n",
        "# print(df.head())"
      ],
      "metadata": {
        "colab": {
          "base_uri": "https://localhost:8080/"
        },
        "id": "Wsq0m6pMA-IC",
        "outputId": "58aa0a9c-8cd2-4a92-f8b4-f036af64b98d"
      },
      "execution_count": null,
      "outputs": [
        {
          "output_type": "stream",
          "name": "stdout",
          "text": [
            "                          Track                 Album Name  \\\n",
            "1817   Monkeys Spinning Monkeys          SteamFun - Single   \n",
            "3276                Love You So   The King Khan & BBQ Show   \n",
            "1859                      Oh No                Cold As Ice   \n",
            "628                  Funny Song   Vintage Oddities, Vol. 4   \n",
            "3352                  Aesthetic                  Aesthetic   \n",
            "792                   Spongebob                  Spongebob   \n",
            "3021            She Share Story            She Share Story   \n",
            "3269  STAY (with Justin Bieber)  STAY (with Justin Bieber)   \n",
            "787                      Pieces                     Pieces   \n",
            "693    love nwantiti (ah ah ah)             CKay The First   \n",
            "\n",
            "                        Artist Release Date          ISRC All Time Rank  \\\n",
            "1817             Kevin MacLeod   2011-05-16  USUAN1400011         1,018   \n",
            "3276  The King Khan & BBQ Show   2005-01-01  USA3D0700101         1,918   \n",
            "1859                    Kreepa   2019-12-13  USUYG1287925           473   \n",
            "628            Cavendish Music   2018-08-15  GBBGY1743613         1,539   \n",
            "3352                Tollan Kim   2022-04-03  SGB502208576           114   \n",
            "792                    Dante9k   2020-01-28  QZFYZ2047242         3,356   \n",
            "3021               Shayne Orok   2020-02-06  QZHN52089091         1,156   \n",
            "3269             The Kid LAROI   2021-09-07  USSM12103949            27   \n",
            "787           Danilo Stankovic   2020-09-17  QZAKB2006575         3,367   \n",
            "693                       CKay   2019-08-30  QMEU31910213           256   \n",
            "\n",
            "      Track Score  Spotify Streams  Spotify Playlist Count  \\\n",
            "1817         47.6     1.147748e+07                  7679.0   \n",
            "3276         33.1     1.632663e+07                 12434.0   \n",
            "1859         70.6     4.028412e+07                 14548.0   \n",
            "628          37.4     5.866282e+06                  3514.0   \n",
            "3352        144.0     5.712985e+06                  2311.0   \n",
            "792          23.7     9.021030e+05                   800.0   \n",
            "3021         44.1     0.000000e+00                  2443.0   \n",
            "3269        266.3     3.107100e+09                451732.0   \n",
            "787          23.6     5.467217e+06                  2314.0   \n",
            "693          96.9     8.534514e+08                172458.0   \n",
            "\n",
            "      Spotify Playlist Reach  ...  SiriusXM Spins  Deezer Playlist Count  \\\n",
            "1817               1490705.0  ...             NaN                    1.0   \n",
            "3276               3542140.0  ...              17                   12.0   \n",
            "1859               3212878.0  ...             333                   12.0   \n",
            "628                 462009.0  ...             NaN                    2.0   \n",
            "3352                535908.0  ...             NaN                    4.0   \n",
            "792                  74253.0  ...              43                    NaN   \n",
            "3021                424979.0  ...             NaN                    1.0   \n",
            "3269             134793519.0  ...           4,096                  166.0   \n",
            "787                 485008.0  ...             NaN                    NaN   \n",
            "693               43607688.0  ...           2,726                   51.0   \n",
            "\n",
            "      Deezer Playlist Reach  Amazon Playlist Count  Pandora Streams  \\\n",
            "1817                43207.0                    1.0              0.0   \n",
            "3276               211251.0                   12.0         107438.0   \n",
            "1859               240117.0                    4.0         384569.0   \n",
            "628                 43501.0                    NaN          24606.0   \n",
            "3352                 1397.0                    1.0          21564.0   \n",
            "792                     NaN                    NaN          14108.0   \n",
            "3021                 3316.0                    NaN          12694.0   \n",
            "3269              5783693.0                  128.0      196783487.0   \n",
            "787                     NaN                    9.0              0.0   \n",
            "693               1474677.0                    5.0       31447967.0   \n",
            "\n",
            "      Pandora Track Stations  Soundcloud Streams  Shazam Counts  \\\n",
            "1817                     NaN                 0.0      1177639.0   \n",
            "3276                     NaN                 0.0       632600.0   \n",
            "1859                  3503.0                 0.0        31859.0   \n",
            "628                   1733.0                 0.0       903944.0   \n",
            "3352                    81.0                 0.0       249823.0   \n",
            "792                      NaN                 0.0            0.0   \n",
            "3021                     NaN                 0.0            0.0   \n",
            "3269                124922.0          36341585.0            0.0   \n",
            "787                      NaN                 0.0       167985.0   \n",
            "693                  31569.0                 0.0      3489217.0   \n",
            "\n",
            "      Explicit Track Combined Streams  \n",
            "1817               0     2.330241e+11  \n",
            "3276               0     2.150247e+11  \n",
            "1859               1     6.114724e+10  \n",
            "628                0     3.839223e+10  \n",
            "3352               0     3.387990e+10  \n",
            "792                0     3.336032e+10  \n",
            "3021               0     3.320216e+10  \n",
            "3269               1     2.830958e+10  \n",
            "787                0     2.803861e+10  \n",
            "693                1     2.595378e+10  \n",
            "\n",
            "[10 rows x 29 columns]\n"
          ]
        }
      ]
    },
    {
      "cell_type": "code",
      "source": [
        "import plotly.express as px\n",
        "import pandas as pd\n",
        "\n",
        "# Assuming `top_songs` is your DataFrame containing the song data\n",
        "sunburst_data = []\n",
        "\n",
        "for _, row in top_songs.iterrows():\n",
        "    track = row[\"Track\"]\n",
        "    for platform in [\"Spotify Streams\", \"YouTube Views\", \"TikTok Views\", \"Soundcloud Streams\", \"Pandora Streams\", \"Shazam Counts\"]:\n",
        "        sunburst_data.append({\n",
        "            \"Song\": track,\n",
        "            \"Platform\": platform,\n",
        "            \"Streams\": row[platform]\n",
        "        })\n",
        "\n",
        "sunburst_df = pd.DataFrame(sunburst_data)\n",
        "\n",
        "# Calculate total streams per song for the upper level of the Sunburst\n",
        "song_totals = sunburst_df.groupby('Song')['Streams'].sum().reset_index()\n",
        "song_totals.columns = ['Song', 'Total Streams']\n",
        "sunburst_df = sunburst_df.merge(song_totals, on='Song', how='left')\n",
        "\n",
        "sunburst_df[\"Streams\"] = sunburst_df[\"Streams\"].replace(0, 1e-9)\n",
        "\n",
        "# Add a new column for formatted text\n",
        "sunburst_df[\"Display Streams\"] = sunburst_df[\"Streams\"].replace(1e-9, 0).astype(int)\n",
        "\n",
        "# Create the Sunburst chart\n",
        "fig = px.sunburst(\n",
        "    sunburst_df,\n",
        "    path=[\"Song\", \"Platform\"],\n",
        "    values=\"Streams\",\n",
        "    title=\"Sunburst Chart of Top 10 Songs by Streams on Each Platform\",\n",
        "    color='Streams',\n",
        "    color_continuous_scale='Blues'\n",
        ")\n",
        "\n",
        "fig.update_layout(\n",
        "    showlegend=True,\n",
        "    modebar_add=[\"toImage\"],  # Ensure the download option is available\n",
        ")\n",
        "\n",
        "fig.show()\n"
      ],
      "metadata": {
        "colab": {
          "base_uri": "https://localhost:8080/",
          "height": 542
        },
        "id": "1dWvlAbVBkIG",
        "outputId": "636cf8a1-048e-4f0d-fa21-7773a128f8ac"
      },
      "execution_count": null,
      "outputs": [
        {
          "output_type": "display_data",
          "data": {
            "text/html": [
              "<html>\n",
              "<head><meta charset=\"utf-8\" /></head>\n",
              "<body>\n",
              "    <div>            <script src=\"https://cdnjs.cloudflare.com/ajax/libs/mathjax/2.7.5/MathJax.js?config=TeX-AMS-MML_SVG\"></script><script type=\"text/javascript\">if (window.MathJax && window.MathJax.Hub && window.MathJax.Hub.Config) {window.MathJax.Hub.Config({SVG: {font: \"STIX-Web\"}});}</script>                <script type=\"text/javascript\">window.PlotlyConfig = {MathJaxConfig: 'local'};</script>\n",
              "        <script charset=\"utf-8\" src=\"https://cdn.plot.ly/plotly-2.35.2.min.js\"></script>                <div id=\"0ff5fafa-4c6c-4947-9bed-ec88346bc1a5\" class=\"plotly-graph-div\" style=\"height:525px; width:100%;\"></div>            <script type=\"text/javascript\">                                    window.PLOTLYENV=window.PLOTLYENV || {};                                    if (document.getElementById(\"0ff5fafa-4c6c-4947-9bed-ec88346bc1a5\")) {                    Plotly.newPlot(                        \"0ff5fafa-4c6c-4947-9bed-ec88346bc1a5\",                        [{\"branchvalues\":\"total\",\"customdata\":[[21564.0],[24606.0],[107438.0],[1e-9],[384569.0],[1e-9],[196783487.0],[12694.0],[14108.0],[31447967.0],[249823.0],[903944.0],[632600.0],[1177639.0],[31859.0],[167985.0],[1e-9],[1e-9],[1e-9],[3489217.0],[1e-9],[1e-9],[1e-9],[1e-9],[1e-9],[1e-9],[36341585.0],[1e-9],[1e-9],[1e-9],[5712985.0],[5866282.0],[16326628.0],[11477477.0],[40284121.0],[5467217.0],[3107100349.0],[1e-9],[902103.0],[853451422.0],[33870791454.0],[38373644011.0],[215000000000.0],[233000000000.0],[61088562861.0],[28032695489.0],[23712377029.0],[33201904006.0],[33359398879.0],[23933379729.0],[3120073.0],[11793478.0],[7603329.0],[11457166.0],[17978707.0],[283023.0],[1256973582.0],[238798.0],[1e-9],[1132006963.0],[33861690708.15093],[38355069241.300865],[214975334345.8497],[232975891347.61624],[61029971743.86148],[28026779583.09361],[20259961623.34915],[33201652517.627285],[33358482717.562828],[22147740700.36977]],\"domain\":{\"x\":[0.0,1.0],\"y\":[0.0,1.0]},\"hovertemplate\":\"labels=%{label}\\u003cbr\\u003eStreams_sum=%{value}\\u003cbr\\u003eparent=%{parent}\\u003cbr\\u003eid=%{id}\\u003cbr\\u003eStreams=%{color}\\u003cextra\\u003e\\u003c\\u002fextra\\u003e\",\"ids\":[\"Aesthetic\\u002fPandora Streams\",\"Funny Song\\u002fPandora Streams\",\"Love You So\\u002fPandora Streams\",\"Monkeys Spinning Monkeys\\u002fPandora Streams\",\"Oh No\\u002fPandora Streams\",\"Pieces\\u002fPandora Streams\",\"STAY (with Justin Bieber)\\u002fPandora Streams\",\"She Share Story\\u002fPandora Streams\",\"Spongebob\\u002fPandora Streams\",\"love nwantiti (ah ah ah)\\u002fPandora Streams\",\"Aesthetic\\u002fShazam Counts\",\"Funny Song\\u002fShazam Counts\",\"Love You So\\u002fShazam Counts\",\"Monkeys Spinning Monkeys\\u002fShazam Counts\",\"Oh No\\u002fShazam Counts\",\"Pieces\\u002fShazam Counts\",\"STAY (with Justin Bieber)\\u002fShazam Counts\",\"She Share Story\\u002fShazam Counts\",\"Spongebob\\u002fShazam Counts\",\"love nwantiti (ah ah ah)\\u002fShazam Counts\",\"Aesthetic\\u002fSoundcloud Streams\",\"Funny Song\\u002fSoundcloud Streams\",\"Love You So\\u002fSoundcloud Streams\",\"Monkeys Spinning Monkeys\\u002fSoundcloud Streams\",\"Oh No\\u002fSoundcloud Streams\",\"Pieces\\u002fSoundcloud Streams\",\"STAY (with Justin Bieber)\\u002fSoundcloud Streams\",\"She Share Story\\u002fSoundcloud Streams\",\"Spongebob\\u002fSoundcloud Streams\",\"love nwantiti (ah ah ah)\\u002fSoundcloud Streams\",\"Aesthetic\\u002fSpotify Streams\",\"Funny Song\\u002fSpotify Streams\",\"Love You So\\u002fSpotify Streams\",\"Monkeys Spinning Monkeys\\u002fSpotify Streams\",\"Oh No\\u002fSpotify Streams\",\"Pieces\\u002fSpotify Streams\",\"STAY (with Justin Bieber)\\u002fSpotify Streams\",\"She Share Story\\u002fSpotify Streams\",\"Spongebob\\u002fSpotify Streams\",\"love nwantiti (ah ah ah)\\u002fSpotify Streams\",\"Aesthetic\\u002fTikTok Views\",\"Funny Song\\u002fTikTok Views\",\"Love You So\\u002fTikTok Views\",\"Monkeys Spinning Monkeys\\u002fTikTok Views\",\"Oh No\\u002fTikTok Views\",\"Pieces\\u002fTikTok Views\",\"STAY (with Justin Bieber)\\u002fTikTok Views\",\"She Share Story\\u002fTikTok Views\",\"Spongebob\\u002fTikTok Views\",\"love nwantiti (ah ah ah)\\u002fTikTok Views\",\"Aesthetic\\u002fYouTube Views\",\"Funny Song\\u002fYouTube Views\",\"Love You So\\u002fYouTube Views\",\"Monkeys Spinning Monkeys\\u002fYouTube Views\",\"Oh No\\u002fYouTube Views\",\"Pieces\\u002fYouTube Views\",\"STAY (with Justin Bieber)\\u002fYouTube Views\",\"She Share Story\\u002fYouTube Views\",\"Spongebob\\u002fYouTube Views\",\"love nwantiti (ah ah ah)\\u002fYouTube Views\",\"Aesthetic\",\"Funny Song\",\"Love You So\",\"Monkeys Spinning Monkeys\",\"Oh No\",\"Pieces\",\"STAY (with Justin Bieber)\",\"She Share Story\",\"Spongebob\",\"love nwantiti (ah ah ah)\"],\"labels\":[\"Pandora Streams\",\"Pandora Streams\",\"Pandora Streams\",\"Pandora Streams\",\"Pandora Streams\",\"Pandora Streams\",\"Pandora Streams\",\"Pandora Streams\",\"Pandora Streams\",\"Pandora Streams\",\"Shazam Counts\",\"Shazam Counts\",\"Shazam Counts\",\"Shazam Counts\",\"Shazam Counts\",\"Shazam Counts\",\"Shazam Counts\",\"Shazam Counts\",\"Shazam Counts\",\"Shazam Counts\",\"Soundcloud Streams\",\"Soundcloud Streams\",\"Soundcloud Streams\",\"Soundcloud Streams\",\"Soundcloud Streams\",\"Soundcloud Streams\",\"Soundcloud Streams\",\"Soundcloud Streams\",\"Soundcloud Streams\",\"Soundcloud Streams\",\"Spotify Streams\",\"Spotify Streams\",\"Spotify Streams\",\"Spotify Streams\",\"Spotify Streams\",\"Spotify Streams\",\"Spotify Streams\",\"Spotify Streams\",\"Spotify Streams\",\"Spotify Streams\",\"TikTok Views\",\"TikTok Views\",\"TikTok Views\",\"TikTok Views\",\"TikTok Views\",\"TikTok Views\",\"TikTok Views\",\"TikTok Views\",\"TikTok Views\",\"TikTok Views\",\"YouTube Views\",\"YouTube Views\",\"YouTube Views\",\"YouTube Views\",\"YouTube Views\",\"YouTube Views\",\"YouTube Views\",\"YouTube Views\",\"YouTube Views\",\"YouTube Views\",\"Aesthetic\",\"Funny Song\",\"Love You So\",\"Monkeys Spinning Monkeys\",\"Oh No\",\"Pieces\",\"STAY (with Justin Bieber)\",\"She Share Story\",\"Spongebob\",\"love nwantiti (ah ah ah)\"],\"marker\":{\"coloraxis\":\"coloraxis\",\"colors\":[21564.0,24606.0,107438.0,1e-9,384569.0,1e-9,196783487.0,12694.0,14108.0,31447967.0,249823.0,903944.0,632600.0,1177639.0,31859.0,167985.0,1e-9,1e-9,1e-9,3489217.0,1e-9,1e-9,1e-9,1e-9,1e-9,1e-9,36341585.0,1e-9,1e-9,1e-9,5712985.0,5866282.0,16326628.0,11477477.0,40284121.0,5467217.0,3107100349.0,1e-9,902103.0,853451422.0,33870791454.0,38373644011.0,215000000000.0,233000000000.0,61088562861.0,28032695489.0,23712377029.0,33201904006.0,33359398879.0,23933379729.0,3120073.0,11793478.0,7603329.0,11457166.0,17978707.0,283023.0,1256973582.0,238798.0,1e-9,1132006963.0,33861690708.15093,38355069241.300865,214975334345.8497,232975891347.61624,61029971743.86148,28026779583.09361,20259961623.34915,33201652517.627285,33358482717.562828,22147740700.36977]},\"name\":\"\",\"parents\":[\"Aesthetic\",\"Funny Song\",\"Love You So\",\"Monkeys Spinning Monkeys\",\"Oh No\",\"Pieces\",\"STAY (with Justin Bieber)\",\"She Share Story\",\"Spongebob\",\"love nwantiti (ah ah ah)\",\"Aesthetic\",\"Funny Song\",\"Love You So\",\"Monkeys Spinning Monkeys\",\"Oh No\",\"Pieces\",\"STAY (with Justin Bieber)\",\"She Share Story\",\"Spongebob\",\"love nwantiti (ah ah ah)\",\"Aesthetic\",\"Funny Song\",\"Love You So\",\"Monkeys Spinning Monkeys\",\"Oh No\",\"Pieces\",\"STAY (with Justin Bieber)\",\"She Share Story\",\"Spongebob\",\"love nwantiti (ah ah ah)\",\"Aesthetic\",\"Funny Song\",\"Love You So\",\"Monkeys Spinning Monkeys\",\"Oh No\",\"Pieces\",\"STAY (with Justin Bieber)\",\"She Share Story\",\"Spongebob\",\"love nwantiti (ah ah ah)\",\"Aesthetic\",\"Funny Song\",\"Love You So\",\"Monkeys Spinning Monkeys\",\"Oh No\",\"Pieces\",\"STAY (with Justin Bieber)\",\"She Share Story\",\"Spongebob\",\"love nwantiti (ah ah ah)\",\"Aesthetic\",\"Funny Song\",\"Love You So\",\"Monkeys Spinning Monkeys\",\"Oh No\",\"Pieces\",\"STAY (with Justin Bieber)\",\"She Share Story\",\"Spongebob\",\"love nwantiti (ah ah ah)\",\"\",\"\",\"\",\"\",\"\",\"\",\"\",\"\",\"\",\"\"],\"values\":[21564.0,24606.0,107438.0,1e-9,384569.0,1e-9,196783487.0,12694.0,14108.0,31447967.0,249823.0,903944.0,632600.0,1177639.0,31859.0,167985.0,1e-9,1e-9,1e-9,3489217.0,1e-9,1e-9,1e-9,1e-9,1e-9,1e-9,36341585.0,1e-9,1e-9,1e-9,5712985.0,5866282.0,16326628.0,11477477.0,40284121.0,5467217.0,3107100349.0,1e-9,902103.0,853451422.0,33870791454.0,38373644011.0,215000000000.0,233000000000.0,61088562861.0,28032695489.0,23712377029.0,33201904006.0,33359398879.0,23933379729.0,3120073.0,11793478.0,7603329.0,11457166.0,17978707.0,283023.0,1256973582.0,238798.0,1e-9,1132006963.0,33879895899.0,38392232321.0,215024669995.0,233024112282.0,61147242117.0,28038613714.0,28309576032.0,33202155498.0,33360315090.0,25953775298.0],\"type\":\"sunburst\"}],                        {\"template\":{\"data\":{\"histogram2dcontour\":[{\"type\":\"histogram2dcontour\",\"colorbar\":{\"outlinewidth\":0,\"ticks\":\"\"},\"colorscale\":[[0.0,\"#0d0887\"],[0.1111111111111111,\"#46039f\"],[0.2222222222222222,\"#7201a8\"],[0.3333333333333333,\"#9c179e\"],[0.4444444444444444,\"#bd3786\"],[0.5555555555555556,\"#d8576b\"],[0.6666666666666666,\"#ed7953\"],[0.7777777777777778,\"#fb9f3a\"],[0.8888888888888888,\"#fdca26\"],[1.0,\"#f0f921\"]]}],\"choropleth\":[{\"type\":\"choropleth\",\"colorbar\":{\"outlinewidth\":0,\"ticks\":\"\"}}],\"histogram2d\":[{\"type\":\"histogram2d\",\"colorbar\":{\"outlinewidth\":0,\"ticks\":\"\"},\"colorscale\":[[0.0,\"#0d0887\"],[0.1111111111111111,\"#46039f\"],[0.2222222222222222,\"#7201a8\"],[0.3333333333333333,\"#9c179e\"],[0.4444444444444444,\"#bd3786\"],[0.5555555555555556,\"#d8576b\"],[0.6666666666666666,\"#ed7953\"],[0.7777777777777778,\"#fb9f3a\"],[0.8888888888888888,\"#fdca26\"],[1.0,\"#f0f921\"]]}],\"heatmap\":[{\"type\":\"heatmap\",\"colorbar\":{\"outlinewidth\":0,\"ticks\":\"\"},\"colorscale\":[[0.0,\"#0d0887\"],[0.1111111111111111,\"#46039f\"],[0.2222222222222222,\"#7201a8\"],[0.3333333333333333,\"#9c179e\"],[0.4444444444444444,\"#bd3786\"],[0.5555555555555556,\"#d8576b\"],[0.6666666666666666,\"#ed7953\"],[0.7777777777777778,\"#fb9f3a\"],[0.8888888888888888,\"#fdca26\"],[1.0,\"#f0f921\"]]}],\"heatmapgl\":[{\"type\":\"heatmapgl\",\"colorbar\":{\"outlinewidth\":0,\"ticks\":\"\"},\"colorscale\":[[0.0,\"#0d0887\"],[0.1111111111111111,\"#46039f\"],[0.2222222222222222,\"#7201a8\"],[0.3333333333333333,\"#9c179e\"],[0.4444444444444444,\"#bd3786\"],[0.5555555555555556,\"#d8576b\"],[0.6666666666666666,\"#ed7953\"],[0.7777777777777778,\"#fb9f3a\"],[0.8888888888888888,\"#fdca26\"],[1.0,\"#f0f921\"]]}],\"contourcarpet\":[{\"type\":\"contourcarpet\",\"colorbar\":{\"outlinewidth\":0,\"ticks\":\"\"}}],\"contour\":[{\"type\":\"contour\",\"colorbar\":{\"outlinewidth\":0,\"ticks\":\"\"},\"colorscale\":[[0.0,\"#0d0887\"],[0.1111111111111111,\"#46039f\"],[0.2222222222222222,\"#7201a8\"],[0.3333333333333333,\"#9c179e\"],[0.4444444444444444,\"#bd3786\"],[0.5555555555555556,\"#d8576b\"],[0.6666666666666666,\"#ed7953\"],[0.7777777777777778,\"#fb9f3a\"],[0.8888888888888888,\"#fdca26\"],[1.0,\"#f0f921\"]]}],\"surface\":[{\"type\":\"surface\",\"colorbar\":{\"outlinewidth\":0,\"ticks\":\"\"},\"colorscale\":[[0.0,\"#0d0887\"],[0.1111111111111111,\"#46039f\"],[0.2222222222222222,\"#7201a8\"],[0.3333333333333333,\"#9c179e\"],[0.4444444444444444,\"#bd3786\"],[0.5555555555555556,\"#d8576b\"],[0.6666666666666666,\"#ed7953\"],[0.7777777777777778,\"#fb9f3a\"],[0.8888888888888888,\"#fdca26\"],[1.0,\"#f0f921\"]]}],\"mesh3d\":[{\"type\":\"mesh3d\",\"colorbar\":{\"outlinewidth\":0,\"ticks\":\"\"}}],\"scatter\":[{\"fillpattern\":{\"fillmode\":\"overlay\",\"size\":10,\"solidity\":0.2},\"type\":\"scatter\"}],\"parcoords\":[{\"type\":\"parcoords\",\"line\":{\"colorbar\":{\"outlinewidth\":0,\"ticks\":\"\"}}}],\"scatterpolargl\":[{\"type\":\"scatterpolargl\",\"marker\":{\"colorbar\":{\"outlinewidth\":0,\"ticks\":\"\"}}}],\"bar\":[{\"error_x\":{\"color\":\"#2a3f5f\"},\"error_y\":{\"color\":\"#2a3f5f\"},\"marker\":{\"line\":{\"color\":\"#E5ECF6\",\"width\":0.5},\"pattern\":{\"fillmode\":\"overlay\",\"size\":10,\"solidity\":0.2}},\"type\":\"bar\"}],\"scattergeo\":[{\"type\":\"scattergeo\",\"marker\":{\"colorbar\":{\"outlinewidth\":0,\"ticks\":\"\"}}}],\"scatterpolar\":[{\"type\":\"scatterpolar\",\"marker\":{\"colorbar\":{\"outlinewidth\":0,\"ticks\":\"\"}}}],\"histogram\":[{\"marker\":{\"pattern\":{\"fillmode\":\"overlay\",\"size\":10,\"solidity\":0.2}},\"type\":\"histogram\"}],\"scattergl\":[{\"type\":\"scattergl\",\"marker\":{\"colorbar\":{\"outlinewidth\":0,\"ticks\":\"\"}}}],\"scatter3d\":[{\"type\":\"scatter3d\",\"line\":{\"colorbar\":{\"outlinewidth\":0,\"ticks\":\"\"}},\"marker\":{\"colorbar\":{\"outlinewidth\":0,\"ticks\":\"\"}}}],\"scattermapbox\":[{\"type\":\"scattermapbox\",\"marker\":{\"colorbar\":{\"outlinewidth\":0,\"ticks\":\"\"}}}],\"scatterternary\":[{\"type\":\"scatterternary\",\"marker\":{\"colorbar\":{\"outlinewidth\":0,\"ticks\":\"\"}}}],\"scattercarpet\":[{\"type\":\"scattercarpet\",\"marker\":{\"colorbar\":{\"outlinewidth\":0,\"ticks\":\"\"}}}],\"carpet\":[{\"aaxis\":{\"endlinecolor\":\"#2a3f5f\",\"gridcolor\":\"white\",\"linecolor\":\"white\",\"minorgridcolor\":\"white\",\"startlinecolor\":\"#2a3f5f\"},\"baxis\":{\"endlinecolor\":\"#2a3f5f\",\"gridcolor\":\"white\",\"linecolor\":\"white\",\"minorgridcolor\":\"white\",\"startlinecolor\":\"#2a3f5f\"},\"type\":\"carpet\"}],\"table\":[{\"cells\":{\"fill\":{\"color\":\"#EBF0F8\"},\"line\":{\"color\":\"white\"}},\"header\":{\"fill\":{\"color\":\"#C8D4E3\"},\"line\":{\"color\":\"white\"}},\"type\":\"table\"}],\"barpolar\":[{\"marker\":{\"line\":{\"color\":\"#E5ECF6\",\"width\":0.5},\"pattern\":{\"fillmode\":\"overlay\",\"size\":10,\"solidity\":0.2}},\"type\":\"barpolar\"}],\"pie\":[{\"automargin\":true,\"type\":\"pie\"}]},\"layout\":{\"autotypenumbers\":\"strict\",\"colorway\":[\"#636efa\",\"#EF553B\",\"#00cc96\",\"#ab63fa\",\"#FFA15A\",\"#19d3f3\",\"#FF6692\",\"#B6E880\",\"#FF97FF\",\"#FECB52\"],\"font\":{\"color\":\"#2a3f5f\"},\"hovermode\":\"closest\",\"hoverlabel\":{\"align\":\"left\"},\"paper_bgcolor\":\"white\",\"plot_bgcolor\":\"#E5ECF6\",\"polar\":{\"bgcolor\":\"#E5ECF6\",\"angularaxis\":{\"gridcolor\":\"white\",\"linecolor\":\"white\",\"ticks\":\"\"},\"radialaxis\":{\"gridcolor\":\"white\",\"linecolor\":\"white\",\"ticks\":\"\"}},\"ternary\":{\"bgcolor\":\"#E5ECF6\",\"aaxis\":{\"gridcolor\":\"white\",\"linecolor\":\"white\",\"ticks\":\"\"},\"baxis\":{\"gridcolor\":\"white\",\"linecolor\":\"white\",\"ticks\":\"\"},\"caxis\":{\"gridcolor\":\"white\",\"linecolor\":\"white\",\"ticks\":\"\"}},\"coloraxis\":{\"colorbar\":{\"outlinewidth\":0,\"ticks\":\"\"}},\"colorscale\":{\"sequential\":[[0.0,\"#0d0887\"],[0.1111111111111111,\"#46039f\"],[0.2222222222222222,\"#7201a8\"],[0.3333333333333333,\"#9c179e\"],[0.4444444444444444,\"#bd3786\"],[0.5555555555555556,\"#d8576b\"],[0.6666666666666666,\"#ed7953\"],[0.7777777777777778,\"#fb9f3a\"],[0.8888888888888888,\"#fdca26\"],[1.0,\"#f0f921\"]],\"sequentialminus\":[[0.0,\"#0d0887\"],[0.1111111111111111,\"#46039f\"],[0.2222222222222222,\"#7201a8\"],[0.3333333333333333,\"#9c179e\"],[0.4444444444444444,\"#bd3786\"],[0.5555555555555556,\"#d8576b\"],[0.6666666666666666,\"#ed7953\"],[0.7777777777777778,\"#fb9f3a\"],[0.8888888888888888,\"#fdca26\"],[1.0,\"#f0f921\"]],\"diverging\":[[0,\"#8e0152\"],[0.1,\"#c51b7d\"],[0.2,\"#de77ae\"],[0.3,\"#f1b6da\"],[0.4,\"#fde0ef\"],[0.5,\"#f7f7f7\"],[0.6,\"#e6f5d0\"],[0.7,\"#b8e186\"],[0.8,\"#7fbc41\"],[0.9,\"#4d9221\"],[1,\"#276419\"]]},\"xaxis\":{\"gridcolor\":\"white\",\"linecolor\":\"white\",\"ticks\":\"\",\"title\":{\"standoff\":15},\"zerolinecolor\":\"white\",\"automargin\":true,\"zerolinewidth\":2},\"yaxis\":{\"gridcolor\":\"white\",\"linecolor\":\"white\",\"ticks\":\"\",\"title\":{\"standoff\":15},\"zerolinecolor\":\"white\",\"automargin\":true,\"zerolinewidth\":2},\"scene\":{\"xaxis\":{\"backgroundcolor\":\"#E5ECF6\",\"gridcolor\":\"white\",\"linecolor\":\"white\",\"showbackground\":true,\"ticks\":\"\",\"zerolinecolor\":\"white\",\"gridwidth\":2},\"yaxis\":{\"backgroundcolor\":\"#E5ECF6\",\"gridcolor\":\"white\",\"linecolor\":\"white\",\"showbackground\":true,\"ticks\":\"\",\"zerolinecolor\":\"white\",\"gridwidth\":2},\"zaxis\":{\"backgroundcolor\":\"#E5ECF6\",\"gridcolor\":\"white\",\"linecolor\":\"white\",\"showbackground\":true,\"ticks\":\"\",\"zerolinecolor\":\"white\",\"gridwidth\":2}},\"shapedefaults\":{\"line\":{\"color\":\"#2a3f5f\"}},\"annotationdefaults\":{\"arrowcolor\":\"#2a3f5f\",\"arrowhead\":0,\"arrowwidth\":1},\"geo\":{\"bgcolor\":\"white\",\"landcolor\":\"#E5ECF6\",\"subunitcolor\":\"white\",\"showland\":true,\"showlakes\":true,\"lakecolor\":\"white\"},\"title\":{\"x\":0.05},\"mapbox\":{\"style\":\"light\"}}},\"coloraxis\":{\"colorbar\":{\"title\":{\"text\":\"Streams\"}},\"colorscale\":[[0.0,\"rgb(247,251,255)\"],[0.125,\"rgb(222,235,247)\"],[0.25,\"rgb(198,219,239)\"],[0.375,\"rgb(158,202,225)\"],[0.5,\"rgb(107,174,214)\"],[0.625,\"rgb(66,146,198)\"],[0.75,\"rgb(33,113,181)\"],[0.875,\"rgb(8,81,156)\"],[1.0,\"rgb(8,48,107)\"]]},\"legend\":{\"tracegroupgap\":0},\"title\":{\"text\":\"Sunburst Chart of Top 10 Songs by Streams on Each Platform\"},\"modebar\":{\"add\":[\"toImage\"]},\"showlegend\":true},                        {\"responsive\": true}                    ).then(function(){\n",
              "                            \n",
              "var gd = document.getElementById('0ff5fafa-4c6c-4947-9bed-ec88346bc1a5');\n",
              "var x = new MutationObserver(function (mutations, observer) {{\n",
              "        var display = window.getComputedStyle(gd).display;\n",
              "        if (!display || display === 'none') {{\n",
              "            console.log([gd, 'removed!']);\n",
              "            Plotly.purge(gd);\n",
              "            observer.disconnect();\n",
              "        }}\n",
              "}});\n",
              "\n",
              "// Listen for the removal of the full notebook cells\n",
              "var notebookContainer = gd.closest('#notebook-container');\n",
              "if (notebookContainer) {{\n",
              "    x.observe(notebookContainer, {childList: true});\n",
              "}}\n",
              "\n",
              "// Listen for the clearing of the current output cell\n",
              "var outputEl = gd.closest('.output');\n",
              "if (outputEl) {{\n",
              "    x.observe(outputEl, {childList: true});\n",
              "}}\n",
              "\n",
              "                        })                };                            </script>        </div>\n",
              "</body>\n",
              "</html>"
            ]
          },
          "metadata": {}
        }
      ]
    },
    {
      "cell_type": "markdown",
      "source": [
        "Removing TikTok due to its unbalanced influence"
      ],
      "metadata": {
        "id": "RbacE4Q4ZHed"
      }
    },
    {
      "cell_type": "code",
      "source": [
        "df[\"Combined Streams wo TikTok\"] = df[[\"Spotify Streams\",\"YouTube Views\", \"Soundcloud Streams\", \"Pandora Streams\", \"Shazam Counts\"]].sum(axis=1)\n",
        "print(df.head())"
      ],
      "metadata": {
        "colab": {
          "base_uri": "https://localhost:8080/"
        },
        "id": "yy4WnKQfZK86",
        "outputId": "96740802-594b-4274-939a-71ca4a2c096f"
      },
      "execution_count": null,
      "outputs": [
        {
          "output_type": "stream",
          "name": "stdout",
          "text": [
            "                                               Track  \\\n",
            "2                                  For the Last Time   \n",
            "3  ...And to Those I Love, Thanks for Sticking Ar...   \n",
            "4                                             Avalon   \n",
            "5                                        1000 Blunts   \n",
            "6                                        Matte Black   \n",
            "\n",
            "                               Album Name       Artist Release Date  \\\n",
            "2                       For the Last Time  $uicideboy$   2017-05-09   \n",
            "3             STOP STARING AT THE SHADOWS  $uicideboy$   2020-02-14   \n",
            "4                                  Avalon  $uicideboy$   2021-05-21   \n",
            "5  Sing Me a Lullaby, My Sweet Temptation  $uicideboy$   2022-07-29   \n",
            "6  Sing Me a Lullaby, My Sweet Temptation  $uicideboy$   2022-07-29   \n",
            "\n",
            "           ISRC All Time Rank  Track Score  Spotify Streams  \\\n",
            "2  QM8DG1703420         4,585         19.4      305049963.0   \n",
            "3  QZAPK1900020         1,709         35.3      675082623.0   \n",
            "4  QZAPK2000176         3,723         22.2      204669341.0   \n",
            "5  QZAPK2000271         2,237         30.3      189588270.0   \n",
            "6  QZAPK2000269         3,938         21.5      162889846.0   \n",
            "\n",
            "   Spotify Playlist Count  Spotify Playlist Reach  ...  Deezer Playlist Count  \\\n",
            "2                 65770.0               5103054.0  ...                    2.0   \n",
            "3                167727.0              15198984.0  ...                    5.0   \n",
            "4                 54797.0               3940409.0  ...                    NaN   \n",
            "5                 43837.0               2663499.0  ...                    NaN   \n",
            "6                 45505.0               2568098.0  ...                    1.0   \n",
            "\n",
            "   Deezer Playlist Reach  Amazon Playlist Count  Pandora Streams  \\\n",
            "2                14217.0                    NaN       20104066.0   \n",
            "3                22406.0                    NaN       11746442.0   \n",
            "4                    NaN                    NaN        4218125.0   \n",
            "5                    NaN                    NaN        6559431.0   \n",
            "6                53318.0                    NaN        6608498.0   \n",
            "\n",
            "   Pandora Track Stations  Soundcloud Streams  Shazam Counts  Explicit Track  \\\n",
            "2                 13184.0          50633006.0       656337.0               1   \n",
            "3                 31117.0                 0.0      3195912.0               1   \n",
            "4                  3630.0          21572723.0       288456.0               1   \n",
            "5                  3552.0          14217001.0       240381.0               1   \n",
            "6                  3600.0                 0.0       351439.0               1   \n",
            "\n",
            "   Combined Streams Combined Streams wo TikTok  \n",
            "2      6.696255e+08                525691119.0  \n",
            "3      1.277782e+09                959485060.0  \n",
            "4      3.290351e+08                279750604.0  \n",
            "5      2.987181e+08                298286068.0  \n",
            "6      3.014084e+08                252036762.0  \n",
            "\n",
            "[5 rows x 30 columns]\n"
          ]
        }
      ]
    },
    {
      "cell_type": "code",
      "source": [
        "df_sorted = df.sort_values(by=\"Combined Streams wo TikTok\",ascending=False)\n",
        "top_songs = df_sorted.head(10)\n",
        "\n",
        "sunburst_data = []\n",
        "\n",
        "for _, row in top_songs.iterrows():\n",
        "    track = row[\"Track\"]\n",
        "    for platform in [\"Spotify Streams\", \"YouTube Views\", \"Soundcloud Streams\", \"Pandora Streams\", \"Shazam Counts\"]:\n",
        "        sunburst_data.append({\n",
        "            \"Song\": track,\n",
        "            \"Platform\": platform,\n",
        "            \"Streams\": row[platform]\n",
        "        })\n",
        "\n",
        "sunburst_df = pd.DataFrame(sunburst_data)\n",
        "\n",
        "# Calculate total streams per song for the upper level of the Sunburst\n",
        "song_totals = sunburst_df.groupby('Song')['Streams'].sum().reset_index()\n",
        "song_totals.columns = ['Song', 'Total Streams']\n",
        "sunburst_df = sunburst_df.merge(song_totals, on='Song', how='left')\n",
        "\n",
        "sunburst_df[\"Streams\"] = sunburst_df[\"Streams\"].replace(0, 1e-9)\n",
        "\n",
        "# Add a new column for formatted text\n",
        "sunburst_df[\"Display Streams\"] = sunburst_df[\"Streams\"].replace(1e-9, 0).astype(int)\n",
        "\n",
        "# Create the Sunburst chart\n",
        "fig = px.sunburst(\n",
        "    sunburst_df,\n",
        "    path=[\"Song\", \"Platform\"],\n",
        "    values=\"Streams\",\n",
        "    title=\"Sunburst Chart of Top 10 Songs by Streams on Each Platform, excluding TikTok\",\n",
        "    color='Streams',\n",
        "    color_continuous_scale='Blues'\n",
        ")\n",
        "\n",
        "fig.show()\n"
      ],
      "metadata": {
        "colab": {
          "base_uri": "https://localhost:8080/",
          "height": 542
        },
        "id": "PfcFOmv-aJoE",
        "outputId": "77bf790d-fdc9-40c2-80a4-03cc671ba6a1"
      },
      "execution_count": null,
      "outputs": [
        {
          "output_type": "display_data",
          "data": {
            "text/html": [
              "<html>\n",
              "<head><meta charset=\"utf-8\" /></head>\n",
              "<body>\n",
              "    <div>            <script src=\"https://cdnjs.cloudflare.com/ajax/libs/mathjax/2.7.5/MathJax.js?config=TeX-AMS-MML_SVG\"></script><script type=\"text/javascript\">if (window.MathJax && window.MathJax.Hub && window.MathJax.Hub.Config) {window.MathJax.Hub.Config({SVG: {font: \"STIX-Web\"}});}</script>                <script type=\"text/javascript\">window.PlotlyConfig = {MathJaxConfig: 'local'};</script>\n",
              "        <script charset=\"utf-8\" src=\"https://cdn.plot.ly/plotly-2.35.2.min.js\"></script>                <div id=\"30ab317f-8aa7-420c-9a62-fc2ce9df0e7b\" class=\"plotly-graph-div\" style=\"height:525px; width:100%;\"></div>            <script type=\"text/javascript\">                                    window.PLOTLYENV=window.PLOTLYENV || {};                                    if (document.getElementById(\"30ab317f-8aa7-420c-9a62-fc2ce9df0e7b\")) {                    Plotly.newPlot(                        \"30ab317f-8aa7-420c-9a62-fc2ce9df0e7b\",                        [{\"branchvalues\":\"total\",\"customdata\":[[614578695.0],[819509308.0],[373294159.0],[266603596.0],[992473803.0],[1e-9],[733565655.0],[420093147.99999994],[761320130.0],[994708599.0],[21306706.0],[16185008.0],[44842636.0],[19622551.0],[1e-9],[22021769.0],[1146246.0],[9657077.0],[10029992.0],[23508115.0],[2943611.0],[1e-9],[37430204.0],[1e-9],[57076563.0],[1e-9],[78149375.0],[475010.0],[1e-9],[1e-9],[3006226762.0],[2880536961.0],[3071214106.0],[1747093405.0],[2252713547.0],[1891920348.0000002],[3909458734.0000005],[2089476497.0],[1838092894.0],[1993030264.0],[4495059988.0],[4086121880.0],[3366447480.9999995],[9537135721.0],[3967431755.0],[6335989683.0],[8013997219.0],[4467507940.0],[4151880976.0],[5644117304.0],[3638908108.8350444],[3289487433.5773997],[3033133875.90351],[8131119599.763443],[2999230784.182654],[5299996882.952266],[6285352727.050623],[3506565870.1254544],[3134949618.1526494],[4253804508.2049313]],\"domain\":{\"x\":[0.0,1.0],\"y\":[0.0,1.0]},\"hovertemplate\":\"labels=%{label}\\u003cbr\\u003eStreams_sum=%{value}\\u003cbr\\u003eparent=%{parent}\\u003cbr\\u003eid=%{id}\\u003cbr\\u003eStreams=%{color}\\u003cextra\\u003e\\u003c\\u002fextra\\u003e\",\"ids\":[\"Believer\\u002fPandora Streams\",\"Closer\\u002fPandora Streams\",\"Dance Monkey\\u002fPandora Streams\",\"Despacito\\u002fPandora Streams\",\"Let Her Go\\u002fPandora Streams\",\"See You Again (feat. Charlie Puth)\\u002fPandora Streams\",\"Shape of You\\u002fPandora Streams\",\"Sorry\\u002fPandora Streams\",\"Sugar\\u002fPandora Streams\",\"Uptown Funk\\u002fPandora Streams\",\"Believer\\u002fShazam Counts\",\"Closer\\u002fShazam Counts\",\"Dance Monkey\\u002fShazam Counts\",\"Despacito\\u002fShazam Counts\",\"Let Her Go\\u002fShazam Counts\",\"See You Again (feat. Charlie Puth)\\u002fShazam Counts\",\"Shape of You\\u002fShazam Counts\",\"Sorry\\u002fShazam Counts\",\"Sugar\\u002fShazam Counts\",\"Uptown Funk\\u002fShazam Counts\",\"Believer\\u002fSoundcloud Streams\",\"Closer\\u002fSoundcloud Streams\",\"Dance Monkey\\u002fSoundcloud Streams\",\"Despacito\\u002fSoundcloud Streams\",\"Let Her Go\\u002fSoundcloud Streams\",\"See You Again (feat. Charlie Puth)\\u002fSoundcloud Streams\",\"Shape of You\\u002fSoundcloud Streams\",\"Sorry\\u002fSoundcloud Streams\",\"Sugar\\u002fSoundcloud Streams\",\"Uptown Funk\\u002fSoundcloud Streams\",\"Believer\\u002fSpotify Streams\",\"Closer\\u002fSpotify Streams\",\"Dance Monkey\\u002fSpotify Streams\",\"Despacito\\u002fSpotify Streams\",\"Let Her Go\\u002fSpotify Streams\",\"See You Again (feat. Charlie Puth)\\u002fSpotify Streams\",\"Shape of You\\u002fSpotify Streams\",\"Sorry\\u002fSpotify Streams\",\"Sugar\\u002fSpotify Streams\",\"Uptown Funk\\u002fSpotify Streams\",\"Believer\\u002fYouTube Views\",\"Closer\\u002fYouTube Views\",\"Dance Monkey\\u002fYouTube Views\",\"Despacito\\u002fYouTube Views\",\"Let Her Go\\u002fYouTube Views\",\"See You Again (feat. Charlie Puth)\\u002fYouTube Views\",\"Shape of You\\u002fYouTube Views\",\"Sorry\\u002fYouTube Views\",\"Sugar\\u002fYouTube Views\",\"Uptown Funk\\u002fYouTube Views\",\"Believer\",\"Closer\",\"Dance Monkey\",\"Despacito\",\"Let Her Go\",\"See You Again (feat. Charlie Puth)\",\"Shape of You\",\"Sorry\",\"Sugar\",\"Uptown Funk\"],\"labels\":[\"Pandora Streams\",\"Pandora Streams\",\"Pandora Streams\",\"Pandora Streams\",\"Pandora Streams\",\"Pandora Streams\",\"Pandora Streams\",\"Pandora Streams\",\"Pandora Streams\",\"Pandora Streams\",\"Shazam Counts\",\"Shazam Counts\",\"Shazam Counts\",\"Shazam Counts\",\"Shazam Counts\",\"Shazam Counts\",\"Shazam Counts\",\"Shazam Counts\",\"Shazam Counts\",\"Shazam Counts\",\"Soundcloud Streams\",\"Soundcloud Streams\",\"Soundcloud Streams\",\"Soundcloud Streams\",\"Soundcloud Streams\",\"Soundcloud Streams\",\"Soundcloud Streams\",\"Soundcloud Streams\",\"Soundcloud Streams\",\"Soundcloud Streams\",\"Spotify Streams\",\"Spotify Streams\",\"Spotify Streams\",\"Spotify Streams\",\"Spotify Streams\",\"Spotify Streams\",\"Spotify Streams\",\"Spotify Streams\",\"Spotify Streams\",\"Spotify Streams\",\"YouTube Views\",\"YouTube Views\",\"YouTube Views\",\"YouTube Views\",\"YouTube Views\",\"YouTube Views\",\"YouTube Views\",\"YouTube Views\",\"YouTube Views\",\"YouTube Views\",\"Believer\",\"Closer\",\"Dance Monkey\",\"Despacito\",\"Let Her Go\",\"See You Again (feat. Charlie Puth)\",\"Shape of You\",\"Sorry\",\"Sugar\",\"Uptown Funk\"],\"marker\":{\"coloraxis\":\"coloraxis\",\"colors\":[614578695.0,819509308.0,373294159.0,266603596.0,992473803.0,1e-9,733565655.0,420093147.99999994,761320130.0,994708599.0,21306706.0,16185008.0,44842636.0,19622551.0,1e-9,22021769.0,1146246.0,9657077.0,10029992.0,23508115.0,2943611.0,1e-9,37430204.0,1e-9,57076563.0,1e-9,78149375.0,475010.0,1e-9,1e-9,3006226762.0,2880536961.0,3071214106.0,1747093405.0,2252713547.0,1891920348.0000002,3909458734.0000005,2089476497.0,1838092894.0,1993030264.0,4495059988.0,4086121880.0,3366447480.9999995,9537135721.0,3967431755.0,6335989683.0,8013997219.0,4467507940.0,4151880976.0,5644117304.0,3638908108.8350444,3289487433.5773997,3033133875.90351,8131119599.763443,2999230784.182654,5299996882.952266,6285352727.050623,3506565870.1254544,3134949618.1526494,4253804508.2049313]},\"name\":\"\",\"parents\":[\"Believer\",\"Closer\",\"Dance Monkey\",\"Despacito\",\"Let Her Go\",\"See You Again (feat. Charlie Puth)\",\"Shape of You\",\"Sorry\",\"Sugar\",\"Uptown Funk\",\"Believer\",\"Closer\",\"Dance Monkey\",\"Despacito\",\"Let Her Go\",\"See You Again (feat. Charlie Puth)\",\"Shape of You\",\"Sorry\",\"Sugar\",\"Uptown Funk\",\"Believer\",\"Closer\",\"Dance Monkey\",\"Despacito\",\"Let Her Go\",\"See You Again (feat. Charlie Puth)\",\"Shape of You\",\"Sorry\",\"Sugar\",\"Uptown Funk\",\"Believer\",\"Closer\",\"Dance Monkey\",\"Despacito\",\"Let Her Go\",\"See You Again (feat. Charlie Puth)\",\"Shape of You\",\"Sorry\",\"Sugar\",\"Uptown Funk\",\"Believer\",\"Closer\",\"Dance Monkey\",\"Despacito\",\"Let Her Go\",\"See You Again (feat. Charlie Puth)\",\"Shape of You\",\"Sorry\",\"Sugar\",\"Uptown Funk\",\"\",\"\",\"\",\"\",\"\",\"\",\"\",\"\",\"\",\"\"],\"values\":[614578695.0,819509308.0,373294159.0,266603596.0,992473803.0,1e-9,733565655.0,420093148.0,761320130.0,994708599.0,21306706.0,16185008.0,44842636.0,19622551.0,1e-9,22021769.0,1146246.0,9657077.0,10029992.0,23508115.0,2943611.0,1e-9,37430204.0,1e-9,57076563.0,1e-9,78149375.0,475010.0,1e-9,1e-9,3006226762.0,2880536961.0,3071214106.0,1747093405.0,2252713547.0,1891920348.0,3909458734.0,2089476497.0,1838092894.0,1993030264.0,4495059988.0,4086121880.0,3366447481.0,9537135721.0,3967431755.0,6335989683.0,8013997219.0,4467507940.0,4151880976.0,5644117304.0,8140115762.0,7802353157.0,6893228586.0,11570455273.0,7269695668.0,8249931800.0,12736317229.0,6987209672.0,6761323992.0,8655364282.0],\"type\":\"sunburst\"}],                        {\"template\":{\"data\":{\"histogram2dcontour\":[{\"type\":\"histogram2dcontour\",\"colorbar\":{\"outlinewidth\":0,\"ticks\":\"\"},\"colorscale\":[[0.0,\"#0d0887\"],[0.1111111111111111,\"#46039f\"],[0.2222222222222222,\"#7201a8\"],[0.3333333333333333,\"#9c179e\"],[0.4444444444444444,\"#bd3786\"],[0.5555555555555556,\"#d8576b\"],[0.6666666666666666,\"#ed7953\"],[0.7777777777777778,\"#fb9f3a\"],[0.8888888888888888,\"#fdca26\"],[1.0,\"#f0f921\"]]}],\"choropleth\":[{\"type\":\"choropleth\",\"colorbar\":{\"outlinewidth\":0,\"ticks\":\"\"}}],\"histogram2d\":[{\"type\":\"histogram2d\",\"colorbar\":{\"outlinewidth\":0,\"ticks\":\"\"},\"colorscale\":[[0.0,\"#0d0887\"],[0.1111111111111111,\"#46039f\"],[0.2222222222222222,\"#7201a8\"],[0.3333333333333333,\"#9c179e\"],[0.4444444444444444,\"#bd3786\"],[0.5555555555555556,\"#d8576b\"],[0.6666666666666666,\"#ed7953\"],[0.7777777777777778,\"#fb9f3a\"],[0.8888888888888888,\"#fdca26\"],[1.0,\"#f0f921\"]]}],\"heatmap\":[{\"type\":\"heatmap\",\"colorbar\":{\"outlinewidth\":0,\"ticks\":\"\"},\"colorscale\":[[0.0,\"#0d0887\"],[0.1111111111111111,\"#46039f\"],[0.2222222222222222,\"#7201a8\"],[0.3333333333333333,\"#9c179e\"],[0.4444444444444444,\"#bd3786\"],[0.5555555555555556,\"#d8576b\"],[0.6666666666666666,\"#ed7953\"],[0.7777777777777778,\"#fb9f3a\"],[0.8888888888888888,\"#fdca26\"],[1.0,\"#f0f921\"]]}],\"heatmapgl\":[{\"type\":\"heatmapgl\",\"colorbar\":{\"outlinewidth\":0,\"ticks\":\"\"},\"colorscale\":[[0.0,\"#0d0887\"],[0.1111111111111111,\"#46039f\"],[0.2222222222222222,\"#7201a8\"],[0.3333333333333333,\"#9c179e\"],[0.4444444444444444,\"#bd3786\"],[0.5555555555555556,\"#d8576b\"],[0.6666666666666666,\"#ed7953\"],[0.7777777777777778,\"#fb9f3a\"],[0.8888888888888888,\"#fdca26\"],[1.0,\"#f0f921\"]]}],\"contourcarpet\":[{\"type\":\"contourcarpet\",\"colorbar\":{\"outlinewidth\":0,\"ticks\":\"\"}}],\"contour\":[{\"type\":\"contour\",\"colorbar\":{\"outlinewidth\":0,\"ticks\":\"\"},\"colorscale\":[[0.0,\"#0d0887\"],[0.1111111111111111,\"#46039f\"],[0.2222222222222222,\"#7201a8\"],[0.3333333333333333,\"#9c179e\"],[0.4444444444444444,\"#bd3786\"],[0.5555555555555556,\"#d8576b\"],[0.6666666666666666,\"#ed7953\"],[0.7777777777777778,\"#fb9f3a\"],[0.8888888888888888,\"#fdca26\"],[1.0,\"#f0f921\"]]}],\"surface\":[{\"type\":\"surface\",\"colorbar\":{\"outlinewidth\":0,\"ticks\":\"\"},\"colorscale\":[[0.0,\"#0d0887\"],[0.1111111111111111,\"#46039f\"],[0.2222222222222222,\"#7201a8\"],[0.3333333333333333,\"#9c179e\"],[0.4444444444444444,\"#bd3786\"],[0.5555555555555556,\"#d8576b\"],[0.6666666666666666,\"#ed7953\"],[0.7777777777777778,\"#fb9f3a\"],[0.8888888888888888,\"#fdca26\"],[1.0,\"#f0f921\"]]}],\"mesh3d\":[{\"type\":\"mesh3d\",\"colorbar\":{\"outlinewidth\":0,\"ticks\":\"\"}}],\"scatter\":[{\"fillpattern\":{\"fillmode\":\"overlay\",\"size\":10,\"solidity\":0.2},\"type\":\"scatter\"}],\"parcoords\":[{\"type\":\"parcoords\",\"line\":{\"colorbar\":{\"outlinewidth\":0,\"ticks\":\"\"}}}],\"scatterpolargl\":[{\"type\":\"scatterpolargl\",\"marker\":{\"colorbar\":{\"outlinewidth\":0,\"ticks\":\"\"}}}],\"bar\":[{\"error_x\":{\"color\":\"#2a3f5f\"},\"error_y\":{\"color\":\"#2a3f5f\"},\"marker\":{\"line\":{\"color\":\"#E5ECF6\",\"width\":0.5},\"pattern\":{\"fillmode\":\"overlay\",\"size\":10,\"solidity\":0.2}},\"type\":\"bar\"}],\"scattergeo\":[{\"type\":\"scattergeo\",\"marker\":{\"colorbar\":{\"outlinewidth\":0,\"ticks\":\"\"}}}],\"scatterpolar\":[{\"type\":\"scatterpolar\",\"marker\":{\"colorbar\":{\"outlinewidth\":0,\"ticks\":\"\"}}}],\"histogram\":[{\"marker\":{\"pattern\":{\"fillmode\":\"overlay\",\"size\":10,\"solidity\":0.2}},\"type\":\"histogram\"}],\"scattergl\":[{\"type\":\"scattergl\",\"marker\":{\"colorbar\":{\"outlinewidth\":0,\"ticks\":\"\"}}}],\"scatter3d\":[{\"type\":\"scatter3d\",\"line\":{\"colorbar\":{\"outlinewidth\":0,\"ticks\":\"\"}},\"marker\":{\"colorbar\":{\"outlinewidth\":0,\"ticks\":\"\"}}}],\"scattermapbox\":[{\"type\":\"scattermapbox\",\"marker\":{\"colorbar\":{\"outlinewidth\":0,\"ticks\":\"\"}}}],\"scatterternary\":[{\"type\":\"scatterternary\",\"marker\":{\"colorbar\":{\"outlinewidth\":0,\"ticks\":\"\"}}}],\"scattercarpet\":[{\"type\":\"scattercarpet\",\"marker\":{\"colorbar\":{\"outlinewidth\":0,\"ticks\":\"\"}}}],\"carpet\":[{\"aaxis\":{\"endlinecolor\":\"#2a3f5f\",\"gridcolor\":\"white\",\"linecolor\":\"white\",\"minorgridcolor\":\"white\",\"startlinecolor\":\"#2a3f5f\"},\"baxis\":{\"endlinecolor\":\"#2a3f5f\",\"gridcolor\":\"white\",\"linecolor\":\"white\",\"minorgridcolor\":\"white\",\"startlinecolor\":\"#2a3f5f\"},\"type\":\"carpet\"}],\"table\":[{\"cells\":{\"fill\":{\"color\":\"#EBF0F8\"},\"line\":{\"color\":\"white\"}},\"header\":{\"fill\":{\"color\":\"#C8D4E3\"},\"line\":{\"color\":\"white\"}},\"type\":\"table\"}],\"barpolar\":[{\"marker\":{\"line\":{\"color\":\"#E5ECF6\",\"width\":0.5},\"pattern\":{\"fillmode\":\"overlay\",\"size\":10,\"solidity\":0.2}},\"type\":\"barpolar\"}],\"pie\":[{\"automargin\":true,\"type\":\"pie\"}]},\"layout\":{\"autotypenumbers\":\"strict\",\"colorway\":[\"#636efa\",\"#EF553B\",\"#00cc96\",\"#ab63fa\",\"#FFA15A\",\"#19d3f3\",\"#FF6692\",\"#B6E880\",\"#FF97FF\",\"#FECB52\"],\"font\":{\"color\":\"#2a3f5f\"},\"hovermode\":\"closest\",\"hoverlabel\":{\"align\":\"left\"},\"paper_bgcolor\":\"white\",\"plot_bgcolor\":\"#E5ECF6\",\"polar\":{\"bgcolor\":\"#E5ECF6\",\"angularaxis\":{\"gridcolor\":\"white\",\"linecolor\":\"white\",\"ticks\":\"\"},\"radialaxis\":{\"gridcolor\":\"white\",\"linecolor\":\"white\",\"ticks\":\"\"}},\"ternary\":{\"bgcolor\":\"#E5ECF6\",\"aaxis\":{\"gridcolor\":\"white\",\"linecolor\":\"white\",\"ticks\":\"\"},\"baxis\":{\"gridcolor\":\"white\",\"linecolor\":\"white\",\"ticks\":\"\"},\"caxis\":{\"gridcolor\":\"white\",\"linecolor\":\"white\",\"ticks\":\"\"}},\"coloraxis\":{\"colorbar\":{\"outlinewidth\":0,\"ticks\":\"\"}},\"colorscale\":{\"sequential\":[[0.0,\"#0d0887\"],[0.1111111111111111,\"#46039f\"],[0.2222222222222222,\"#7201a8\"],[0.3333333333333333,\"#9c179e\"],[0.4444444444444444,\"#bd3786\"],[0.5555555555555556,\"#d8576b\"],[0.6666666666666666,\"#ed7953\"],[0.7777777777777778,\"#fb9f3a\"],[0.8888888888888888,\"#fdca26\"],[1.0,\"#f0f921\"]],\"sequentialminus\":[[0.0,\"#0d0887\"],[0.1111111111111111,\"#46039f\"],[0.2222222222222222,\"#7201a8\"],[0.3333333333333333,\"#9c179e\"],[0.4444444444444444,\"#bd3786\"],[0.5555555555555556,\"#d8576b\"],[0.6666666666666666,\"#ed7953\"],[0.7777777777777778,\"#fb9f3a\"],[0.8888888888888888,\"#fdca26\"],[1.0,\"#f0f921\"]],\"diverging\":[[0,\"#8e0152\"],[0.1,\"#c51b7d\"],[0.2,\"#de77ae\"],[0.3,\"#f1b6da\"],[0.4,\"#fde0ef\"],[0.5,\"#f7f7f7\"],[0.6,\"#e6f5d0\"],[0.7,\"#b8e186\"],[0.8,\"#7fbc41\"],[0.9,\"#4d9221\"],[1,\"#276419\"]]},\"xaxis\":{\"gridcolor\":\"white\",\"linecolor\":\"white\",\"ticks\":\"\",\"title\":{\"standoff\":15},\"zerolinecolor\":\"white\",\"automargin\":true,\"zerolinewidth\":2},\"yaxis\":{\"gridcolor\":\"white\",\"linecolor\":\"white\",\"ticks\":\"\",\"title\":{\"standoff\":15},\"zerolinecolor\":\"white\",\"automargin\":true,\"zerolinewidth\":2},\"scene\":{\"xaxis\":{\"backgroundcolor\":\"#E5ECF6\",\"gridcolor\":\"white\",\"linecolor\":\"white\",\"showbackground\":true,\"ticks\":\"\",\"zerolinecolor\":\"white\",\"gridwidth\":2},\"yaxis\":{\"backgroundcolor\":\"#E5ECF6\",\"gridcolor\":\"white\",\"linecolor\":\"white\",\"showbackground\":true,\"ticks\":\"\",\"zerolinecolor\":\"white\",\"gridwidth\":2},\"zaxis\":{\"backgroundcolor\":\"#E5ECF6\",\"gridcolor\":\"white\",\"linecolor\":\"white\",\"showbackground\":true,\"ticks\":\"\",\"zerolinecolor\":\"white\",\"gridwidth\":2}},\"shapedefaults\":{\"line\":{\"color\":\"#2a3f5f\"}},\"annotationdefaults\":{\"arrowcolor\":\"#2a3f5f\",\"arrowhead\":0,\"arrowwidth\":1},\"geo\":{\"bgcolor\":\"white\",\"landcolor\":\"#E5ECF6\",\"subunitcolor\":\"white\",\"showland\":true,\"showlakes\":true,\"lakecolor\":\"white\"},\"title\":{\"x\":0.05},\"mapbox\":{\"style\":\"light\"}}},\"coloraxis\":{\"colorbar\":{\"title\":{\"text\":\"Streams\"}},\"colorscale\":[[0.0,\"rgb(247,251,255)\"],[0.125,\"rgb(222,235,247)\"],[0.25,\"rgb(198,219,239)\"],[0.375,\"rgb(158,202,225)\"],[0.5,\"rgb(107,174,214)\"],[0.625,\"rgb(66,146,198)\"],[0.75,\"rgb(33,113,181)\"],[0.875,\"rgb(8,81,156)\"],[1.0,\"rgb(8,48,107)\"]]},\"legend\":{\"tracegroupgap\":0},\"title\":{\"text\":\"Sunburst Chart of Top 10 Songs by Streams on Each Platform, excluding TikTok\"}},                        {\"responsive\": true}                    ).then(function(){\n",
              "                            \n",
              "var gd = document.getElementById('30ab317f-8aa7-420c-9a62-fc2ce9df0e7b');\n",
              "var x = new MutationObserver(function (mutations, observer) {{\n",
              "        var display = window.getComputedStyle(gd).display;\n",
              "        if (!display || display === 'none') {{\n",
              "            console.log([gd, 'removed!']);\n",
              "            Plotly.purge(gd);\n",
              "            observer.disconnect();\n",
              "        }}\n",
              "}});\n",
              "\n",
              "// Listen for the removal of the full notebook cells\n",
              "var notebookContainer = gd.closest('#notebook-container');\n",
              "if (notebookContainer) {{\n",
              "    x.observe(notebookContainer, {childList: true});\n",
              "}}\n",
              "\n",
              "// Listen for the clearing of the current output cell\n",
              "var outputEl = gd.closest('.output');\n",
              "if (outputEl) {{\n",
              "    x.observe(outputEl, {childList: true});\n",
              "}}\n",
              "\n",
              "                        })                };                            </script>        </div>\n",
              "</body>\n",
              "</html>"
            ]
          },
          "metadata": {}
        }
      ]
    }
  ]
}